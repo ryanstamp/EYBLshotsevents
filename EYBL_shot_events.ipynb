{
 "cells": [
  {
   "attachments": {},
   "cell_type": "markdown",
   "metadata": {},
   "source": [
    "Programmer: Ryan Stampfli\n",
    "\n",
    "EYBL Shots Project\n",
    "\n",
    "7/7/2023"
   ]
  },
  {
   "cell_type": "code",
   "execution_count": 1,
   "metadata": {},
   "outputs": [
    {
     "name": "stderr",
     "output_type": "stream",
     "text": [
      "c:\\Users\\Centr\\anaconda3\\lib\\site-packages\\scipy\\__init__.py:146: UserWarning: A NumPy version >=1.16.5 and <1.23.0 is required for this version of SciPy (detected version 1.24.3\n",
      "  warnings.warn(f\"A NumPy version >={np_minversion} and <{np_maxversion}\"\n"
     ]
    }
   ],
   "source": [
    "import utils\n",
    "import pandas as pd\n",
    "import numpy as np\n",
    "from scipy import stats\n",
    "\n",
    "import warnings\n",
    "\n",
    "# Ignore the FutureWarning\n",
    "warnings.filterwarnings(\"ignore\", category=FutureWarning)"
   ]
  },
  {
   "attachments": {},
   "cell_type": "markdown",
   "metadata": {},
   "source": [
    "## Shots Dataframe"
   ]
  },
  {
   "cell_type": "code",
   "execution_count": 2,
   "metadata": {},
   "outputs": [
    {
     "name": "stdout",
     "output_type": "stream",
     "text": [
      "            idPlayer  namePlayer          nameTeam    typeEvent typeAction  \\\n",
      "yearSeason                                                                   \n",
      "2023               1  Isaac Carr  NW Rotary Rebels    Made Shot  Jump Shot   \n",
      "2023               1  Isaac Carr  NW Rotary Rebels    Made Shot  Jump Shot   \n",
      "2023               1  Isaac Carr  NW Rotary Rebels    Made Shot  Jump Shot   \n",
      "2023               1  Isaac Carr  NW Rotary Rebels  Missed Shot  Jump Shot   \n",
      "2023               1  Isaac Carr  NW Rotary Rebels  Missed Shot  Jump Shot   \n",
      "\n",
      "                  typeShot  dateGame slugTeamHome slugTeamAway  idGame  \\\n",
      "yearSeason                                                               \n",
      "2023        3PT Field Goal  20230429         NWRR           DN       1   \n",
      "2023        3PT Field Goal  20230429         NWRR           DN       1   \n",
      "2023        3PT Field Goal  20230429         NWRR           DN       1   \n",
      "2023        3PT Field Goal  20230429         NWRR           DN       1   \n",
      "2023        3PT Field Goal  20230429         NWRR           DN       1   \n",
      "\n",
      "            NumberHalf              zoneBasic  locationX  locationY  \\\n",
      "yearSeason                                                            \n",
      "2023                 1  Above the Break Three       19.0       16.0   \n",
      "2023                 1           Corner Three      -23.5        3.0   \n",
      "2023                 2           Corner Three       23.5        6.0   \n",
      "2023                 2           Corner Three      -22.0       12.0   \n",
      "2023                 2           Corner Three      -23.5        4.0   \n",
      "\n",
      "           distanceShot  isShotAttempted  isShotMade eventAction  \\\n",
      "yearSeason                                                         \n",
      "2023         19.75+ ft.             True        True         C&S   \n",
      "2023         19.75+ ft.             True        True         C&S   \n",
      "2023         19.75+ ft.             True        True         C&S   \n",
      "2023         19.75+ ft.             True       False         C&S   \n",
      "2023         19.75+ ft.             True       False         C&S   \n",
      "\n",
      "           catchLocation direction  \n",
      "yearSeason                          \n",
      "2023           Left Wing      none  \n",
      "2023            Right CN      none  \n",
      "2023           Left Wing      none  \n",
      "2023          Right Wing       NaN  \n",
      "2023            Right CN       NaN  \n"
     ]
    }
   ],
   "source": [
    "rotary_shots_df = utils.load_data(\"EYBL NW Rotary Shot Data.csv\")\n",
    "print(rotary_shots_df.head())"
   ]
  },
  {
   "cell_type": "code",
   "execution_count": 3,
   "metadata": {},
   "outputs": [],
   "source": [
    "rotary_shots_df.drop(labels=[\"direction\"], axis=1, inplace=True)"
   ]
  },
  {
   "cell_type": "code",
   "execution_count": 4,
   "metadata": {},
   "outputs": [
    {
     "name": "stdout",
     "output_type": "stream",
     "text": [
      "idPlayer           0\n",
      "namePlayer         0\n",
      "nameTeam           0\n",
      "typeEvent          0\n",
      "typeAction         0\n",
      "typeShot           0\n",
      "dateGame           0\n",
      "slugTeamHome       0\n",
      "slugTeamAway       0\n",
      "idGame             0\n",
      "NumberHalf         0\n",
      "zoneBasic          0\n",
      "locationX          0\n",
      "locationY          0\n",
      "distanceShot       0\n",
      "isShotAttempted    0\n",
      "isShotMade         0\n",
      "eventAction        0\n",
      "catchLocation      0\n",
      "dtype: int64\n"
     ]
    }
   ],
   "source": [
    "#print(rotary_shots_df.isnull().sum())\n",
    "rotary_shots_df.dropna(inplace=True)\n",
    "print(rotary_shots_df.isnull().sum())"
   ]
  },
  {
   "attachments": {},
   "cell_type": "markdown",
   "metadata": {},
   "source": [
    "Separating Player Dataframes"
   ]
  },
  {
   "cell_type": "code",
   "execution_count": 5,
   "metadata": {},
   "outputs": [
    {
     "name": "stdout",
     "output_type": "stream",
     "text": [
      "            idPlayer     namePlayer          nameTeam    typeEvent  \\\n",
      "yearSeason                                                           \n",
      "2023               0  Winters Grady  NW Rotary Rebels  Missed Shot   \n",
      "2023               0  Winters Grady  NW Rotary Rebels  Missed Shot   \n",
      "2023               0  Winters Grady  NW Rotary Rebels  Missed Shot   \n",
      "2023               0  Winters Grady  NW Rotary Rebels    Made Shot   \n",
      "2033               0  Winters Grady  NW Rotary Rebels  Missed Shot   \n",
      "\n",
      "                          typeAction        typeShot  dateGame slugTeamHome  \\\n",
      "yearSeason                                                                    \n",
      "2023                       Jump Shot  3PT Field Goal  20230429         NWRR   \n",
      "2023                       Jump Shot  2PT Field Goal  20230429         NWRR   \n",
      "2023                       Jump Shot  2PT Field Goal  20230429         NWRR   \n",
      "2023                Pullup Jump Shot  2PT Field Goal  20230429         NWRR   \n",
      "2033        Turnaround Fadeaway Shot  2PT Field Goal  20230429         NWRR   \n",
      "\n",
      "           slugTeamAway  idGame  NumberHalf     zoneBasic  locationX  \\\n",
      "yearSeason                                                             \n",
      "2023                 DN       1           1  Corner Three      -23.5   \n",
      "2023                 DN       1           1     Mid-Range      -12.0   \n",
      "2023                 DN       1           1     Mid-Range       15.0   \n",
      "2023                 DN       1           2     Mid-Range       15.0   \n",
      "2033                 DN       1           2     Mid-Range        8.0   \n",
      "\n",
      "            locationY     distanceShot  isShotAttempted  isShotMade  \\\n",
      "yearSeason                                                            \n",
      "2023              3.0       19.75+ ft.             True       False   \n",
      "2023             13.0         8-16 ft.             True       False   \n",
      "2023              3.0  Less than 8 ft.             True       False   \n",
      "2023              5.0         8-16 ft.             True        True   \n",
      "2033             17.0         8-16 ft.             True       False   \n",
      "\n",
      "           eventAction catchLocation  \n",
      "yearSeason                            \n",
      "2023               C&S      Right CN  \n",
      "2023               C&S      Right MR  \n",
      "2023               C&S       Left SC  \n",
      "2023             LD PU     Left Wing  \n",
      "2033             SR PF     Left Wing  \n"
     ]
    }
   ],
   "source": [
    "winters_df = rotary_shots_df[rotary_shots_df[\"namePlayer\"] == 'Winters Grady']\n",
    "print(winters_df.head())\n",
    "\n",
    "isaac_df = rotary_shots_df[rotary_shots_df[\"namePlayer\"] == 'Isaac Carr']"
   ]
  },
  {
   "attachments": {},
   "cell_type": "markdown",
   "metadata": {},
   "source": [
    "Creating Location Dataframes"
   ]
  },
  {
   "cell_type": "code",
   "execution_count": 6,
   "metadata": {},
   "outputs": [],
   "source": [
    "winters_left_corner_df = utils.filter_location_df(winters_df, 'Left CN')\n",
    "winters_left_wing_df = utils.filter_location_df(winters_df, 'Left Wing')\n",
    "winters_left_MR_df = utils.filter_location_df(winters_df, 'Left MR')\n",
    "winters_TOK_df = utils.filter_location_df(winters_df, 'Top of Key')\n",
    "winters_right_MR_df = utils.filter_location_df(winters_df, 'Right MR')\n",
    "winters_right_wing_df = utils.filter_location_df(winters_df, 'Right Wing')\n",
    "winters_right_corner_df = utils.filter_location_df(winters_df, 'Right CN')\n",
    "winters_left_SC_df = utils.filter_location_df(winters_df, 'Left SC')\n",
    "winters_right_SC_df = utils.filter_location_df(winters_df, 'Right SC')\n",
    "winters_paint_df = utils.filter_location_df(winters_df, 'Paint')\n",
    "winters_transition_df = utils.filter_location_df(winters_df, 'Transition')\n",
    "winters_left_block_df = utils.filter_location_df(winters_df, 'Left Block')\n",
    "winters_right_block_df = utils.filter_location_df(winters_df, 'Right Block')\n",
    "\n",
    "isaac_left_corner_df = utils.filter_location_df(isaac_df, 'Left CN')\n",
    "isaac_left_wing_df = utils.filter_location_df(isaac_df, 'Left Wing')\n",
    "isaac_left_MR_df = utils.filter_location_df(isaac_df, 'Left MR')\n",
    "isaac_TOK_df = utils.filter_location_df(isaac_df, 'Top of Key')\n",
    "isaac_right_MR_df = utils.filter_location_df(isaac_df, 'Right MR')\n",
    "isaac_right_wing_df = utils.filter_location_df(isaac_df, 'Right Wing')\n",
    "isaac_right_corner_df = utils.filter_location_df(isaac_df, 'Right CN')\n",
    "isaac_left_SC_df = utils.filter_location_df(isaac_df, 'Left SC')\n",
    "isaac_right_SC_df = utils.filter_location_df(isaac_df, 'Right SC')\n",
    "isaac_paint_df = utils.filter_location_df(isaac_df, 'Paint')\n",
    "isaac_transition_df = utils.filter_location_df(isaac_df, 'Transition')\n",
    "isaac_left_block_df = utils.filter_location_df(isaac_df, 'Left Block')\n",
    "isaac_right_block_df = utils.filter_location_df(isaac_df, 'Right Block')\n"
   ]
  },
  {
   "attachments": {},
   "cell_type": "markdown",
   "metadata": {},
   "source": [
    "Calculating Location Shooting Percentage"
   ]
  },
  {
   "cell_type": "code",
   "execution_count": 7,
   "metadata": {},
   "outputs": [
    {
     "name": "stdout",
     "output_type": "stream",
     "text": [
      "Index(['idPlayer', 'namePlayer', 'nameTeam', 'typeEvent', 'typeAction',\n",
      "       'typeShot', 'dateGame', 'slugTeamHome', 'slugTeamAway', 'idGame',\n",
      "       'NumberHalf', 'zoneBasic', 'locationX', 'locationY', 'distanceShot',\n",
      "       'isShotAttempted', 'isShotMade', 'eventAction', 'catchLocation'],\n",
      "      dtype='object')\n"
     ]
    }
   ],
   "source": [
    "print(winters_left_corner_df.columns)"
   ]
  },
  {
   "cell_type": "code",
   "execution_count": 8,
   "metadata": {},
   "outputs": [
    {
     "name": "stdout",
     "output_type": "stream",
     "text": [
      "0.5\n",
      "0.2\n",
      "0.0\n",
      "0.167\n",
      "0.0\n",
      "0.0\n",
      "0.0\n",
      "0.0\n",
      "0.5\n",
      "0.0\n",
      "0.0\n",
      "1.0\n",
      "0.5\n",
      "0.444\n",
      "0.286\n",
      "0.5\n",
      "0.667\n",
      "0.0\n",
      "0.5\n",
      "0.6\n",
      "0.0\n"
     ]
    }
   ],
   "source": [
    "winters_left_corner_percentage = utils.location_percentage(winters_left_corner_df)\n",
    "winters_left_wing_percentage = utils.location_percentage(winters_left_wing_df)\n",
    "winters_left_MR_percentage = utils.location_percentage(winters_left_MR_df)\n",
    "winters_TOK_percentage = utils.location_percentage(winters_TOK_df)\n",
    "winters_right_MR_percentage = utils.location_percentage(winters_right_MR_df)\n",
    "winters_right_wing_percentage = utils.location_percentage(winters_right_wing_df)\n",
    "winters_right_corner_percentage = utils.location_percentage(winters_right_corner_df)\n",
    "winters_left_SC_percentage = utils.location_percentage(winters_left_SC_df)\n",
    "winters_right_SC_percentage = utils.location_percentage(winters_right_SC_df)\n",
    "#winters_paint_percentage = utils.location_percentage(winters_paint_df)\n",
    "winters_transition_percentage = utils.location_percentage(winters_transition_df)\n",
    "winters_left_block_percentage = utils.location_percentage(winters_left_block_df)\n",
    "winters_right_block_percentage = utils.location_percentage(winters_right_block_df)\n",
    "\n",
    "isaac_left_corner_percentage = utils.location_percentage(isaac_left_corner_df)\n",
    "isaac_left_wing_percentage = utils.location_percentage(isaac_left_wing_df)\n",
    "#isaac_left_MR_percentage = utils.location_percentage(isaac_left_MR_df)\n",
    "isaac_TOK_percentage = utils.location_percentage(isaac_TOK_df)\n",
    "#isaac_right_MR_percentage = utils.location_percentage(isaac_right_MR_df)\n",
    "isaac_right_wing_percentage = utils.location_percentage(isaac_right_wing_df)\n",
    "isaac_right_corner_percentage = utils.location_percentage(isaac_right_corner_df)\n",
    "isaac_left_SC_percentage = utils.location_percentage(isaac_left_SC_df)\n",
    "#isaac_right_SC_percentage = utils.location_percentage(isaac_right_SC_df)\n",
    "isaac_paint_percentage = utils.location_percentage(isaac_paint_df)\n",
    "isaac_transition_percentage = utils.location_percentage(isaac_transition_df)\n",
    "#isaac_left_block_percentage = utils.location_percentage(isaac_left_block_df)\n",
    "isaac_right_block_percentage = utils.location_percentage(isaac_right_block_df)"
   ]
  },
  {
   "attachments": {},
   "cell_type": "markdown",
   "metadata": {},
   "source": [
    "Exporting Data"
   ]
  },
  {
   "cell_type": "code",
   "execution_count": 9,
   "metadata": {},
   "outputs": [],
   "source": [
    "column_names = ['namePlayer', 'Top Of Key Percentage', 'Left Wing Percentage' 'Left Corner Percentage', 'Left Mid Range Percentage', 'Left Short Corner Percentage', 'Left Block Percentage', 'Paint Percentage', 'Right Block Percnetage', 'Right Short Corner Percentage', \n",
    "                'Right Mid Range Percentage', 'Right Corner Percentage', ' Right Wing Percentage', 'Transition Percentage']\n",
    "data = [['Winters Grady', winters_left_corner_percentage, winters_left_wing_percentage,\n",
    "winters_left_MR_percentage, winters_TOK_percentage, winters_right_MR_percentage, winters_right_wing_percentage, \n",
    "winters_right_corner_percentage, winters_left_SC_percentage, winters_right_SC_percentage, #winters_paint_percentage, \n",
    "winters_transition_percentage, winters_left_block_percentage, winters_right_block_percentage,], \n",
    "['Isaac Carr', isaac_left_corner_percentage, isaac_left_wing_percentage, #isaac_left_MR_percentage,\n",
    "isaac_TOK_percentage, #isaac_right_MR_percentage,\n",
    "isaac_right_wing_percentage, isaac_right_corner_percentage, isaac_left_SC_percentage, #isaac_right_SC_percentage,\n",
    "isaac_paint_percentage, isaac_transition_percentage, #isaac_left_block_percentage,\n",
    "isaac_right_block_percentage,]]\n",
    "location_percentages_df = pd.DataFrame(data, columns=column_names)\n",
    "location_percentages_df = location_percentages_df.set_index(\"namePlayer\")"
   ]
  },
  {
   "cell_type": "code",
   "execution_count": 10,
   "metadata": {},
   "outputs": [],
   "source": [
    "location_percentages_df.to_csv(\"EYBL_events_percentages.csv\", index=True)"
   ]
  },
  {
   "attachments": {},
   "cell_type": "markdown",
   "metadata": {},
   "source": [
    "Creating Action Dataframes"
   ]
  },
  {
   "cell_type": "code",
   "execution_count": 11,
   "metadata": {},
   "outputs": [],
   "source": [
    "winters_CandS_df = utils.filter_action_df(winters_df, 'C&S')\n",
    "winters_left_drive_layup_df = utils.filter_action_df(winters_df, 'LD LU')\n",
    "winters_right_drive_layup_df = utils.filter_action_df(winters_df, 'RD LU')\n",
    "winters_putback_df = utils.filter_action_df(winters_df, 'PB')\n",
    "winters_left_drive_pullup_df = utils.filter_action_df(winters_df, 'LD PU')\n",
    "winters_right_drive_pullup_df = utils.filter_action_df(winters_df, 'RD PU')\n",
    "winters_left_spin_post_fade_df = utils.filter_action_df(winters_df, 'SL PF')\n",
    "winters_right_spin_post_fade_df = utils.filter_action_df(winters_df, 'SR PF')\n",
    "winters_left_drive_floater_df = utils.filter_action_df(winters_df, 'LD FL')\n",
    "winters_right_drive_floater_df = utils.filter_action_df(winters_df, 'RD FL')\n",
    "winters_left_spin_layup_df = utils.filter_action_df(winters_df, 'SL LU')\n",
    "winters_right_spin_layup_df = utils.filter_action_df(winters_df, 'SR LU')\n",
    "winters_size_up_df = utils.filter_action_df(winters_df, 'SU')\n",
    "\n",
    "isaac_CandS_df = utils.filter_action_df(isaac_df, 'C&S')\n",
    "isaac_left_drive_layup_df = utils.filter_action_df(isaac_df, 'LD LU')\n",
    "isaac_right_drive_layup_df = utils.filter_action_df(isaac_df, 'RD LU')\n",
    "isaac_putback_df = utils.filter_action_df(isaac_df, 'PB')\n",
    "isaac_left_drive_pullup_df = utils.filter_action_df(isaac_df, 'LD PU')\n",
    "isaac_right_drive_pullup_df = utils.filter_action_df(isaac_df, 'RD PU')\n",
    "isaac_left_spin_post_fade_df = utils.filter_action_df(isaac_df, 'SL PF')\n",
    "isaac_right_spin_post_fade_df = utils.filter_action_df(isaac_df, 'SR PF')\n",
    "isaac_left_drive_floater_df = utils.filter_action_df(isaac_df, 'LD FL')\n",
    "isaac_right_drive_floater_df = utils.filter_action_df(isaac_df, 'RD FL')\n",
    "isaac_left_spin_layup_df = utils.filter_action_df(isaac_df, 'SL LU')\n",
    "isaac_right_spin_layup_df = utils.filter_action_df(isaac_df, 'SR LU')\n",
    "isaac_size_up_df = utils.filter_action_df(isaac_df, 'SU')"
   ]
  },
  {
   "attachments": {},
   "cell_type": "markdown",
   "metadata": {},
   "source": [
    "Calculating Action Shooting Percentages"
   ]
  },
  {
   "cell_type": "code",
   "execution_count": 12,
   "metadata": {},
   "outputs": [
    {
     "name": "stdout",
     "output_type": "stream",
     "text": [
      "0.077\n",
      "0.0\n",
      "0.5\n",
      "1.0\n",
      "1.0\n",
      "0.0\n",
      "1.0\n",
      "0.0\n",
      "0.333\n",
      "0.625\n",
      "0.75\n",
      "0.0\n",
      "0.5\n",
      "0.0\n",
      "1.0\n"
     ]
    }
   ],
   "source": [
    "winters_CandS_percentage = utils.action_percentage(winters_CandS_df)\n",
    "#winters_left_drive_layup_percentage = utils.action_percentage(winters_left_drive_layup_df)\n",
    "winters_right_drive_layup_percentage = utils.action_percentage(winters_right_drive_layup_df)\n",
    "winters_putback_percentage = utils.action_percentage(winters_putback_df)\n",
    "winters_left_drive_pullup_percentage = utils.action_percentage(winters_left_drive_pullup_df)\n",
    "#winters_righ_drive_pullup_percentage = utils.action_percentage(winters_right_drive_pullup_df)\n",
    "winters_left_spin_post_fade_percentage = utils.action_percentage(winters_left_spin_post_fade_df)\n",
    "winters_right_spin_post_fade_percentage = utils.action_percentage(winters_right_spin_post_fade_df)\n",
    "#winters_left_drive_floater_percentage = utils.action_percentage(winters_left_drive_floater_df)\n",
    "winters_right_drive_floater_percentage = utils.action_percentage(winters_right_drive_floater_df)\n",
    "winters_left_spin_layup_percentage = utils.action_percentage(winters_left_spin_layup_df)\n",
    "#winters_right_spin_layup_percentage = utils.action_percentage(winters_right_spin_layup_df)\n",
    "#winters_size_up_percentage = utils.action_percentage(winters_size_up_df)\n",
    "\n",
    "isaac_CandS_percentage = utils.action_percentage(isaac_CandS_df)\n",
    "isaac_left_drive_layup_percentage = utils.action_percentage(isaac_left_drive_layup_df)\n",
    "isaac_right_drive_layup_percentage = utils.action_percentage(isaac_right_drive_layup_df)\n",
    "isaac_putback_percentage = utils.action_percentage(isaac_putback_df)\n",
    "isaac_left_drive_pullup_percentage = utils.action_percentage(isaac_left_drive_pullup_df)\n",
    "isaac_righ_drive_pullup_percentage = utils.action_percentage(isaac_right_drive_pullup_df)\n",
    "#isaac_left_spin_post_fade_percentage = utils.action_percentage(isaac_left_spin_post_fade_df)\n",
    "#isaac_right_spin_post_fade_percentage = utils.action_percentage(isaac_right_spin_post_fade_df)\n",
    "#isaac_left_drive_floater_percentage = utils.action_percentage(isaac_left_drive_floater_df)\n",
    "#isaac_right_drive_floater_percentage = utils.action_percentage(isaac_right_drive_floater_df)\n",
    "#isaac_left_spin_layup_percentage = utils.action_percentage(isaac_left_spin_layup_df)\n",
    "#isaac_right_spin_layup_percentage = utils.action_percentage(isaac_right_spin_layup_df)\n",
    "isaac_size_up_percentage = utils.action_percentage(isaac_size_up_df)"
   ]
  },
  {
   "cell_type": "code",
   "execution_count": 15,
   "metadata": {},
   "outputs": [
    {
     "ename": "ValueError",
     "evalue": "14 columns passed, passed data had 9 columns",
     "output_type": "error",
     "traceback": [
      "\u001b[1;31m---------------------------------------------------------------------------\u001b[0m",
      "\u001b[1;31mAssertionError\u001b[0m                            Traceback (most recent call last)",
      "File \u001b[1;32mc:\\Users\\Centr\\anaconda3\\lib\\site-packages\\pandas\\core\\internals\\construction.py:982\u001b[0m, in \u001b[0;36m_finalize_columns_and_data\u001b[1;34m(content, columns, dtype)\u001b[0m\n\u001b[0;32m    981\u001b[0m \u001b[39mtry\u001b[39;00m:\n\u001b[1;32m--> 982\u001b[0m     columns \u001b[39m=\u001b[39m _validate_or_indexify_columns(contents, columns)\n\u001b[0;32m    983\u001b[0m \u001b[39mexcept\u001b[39;00m \u001b[39mAssertionError\u001b[39;00m \u001b[39mas\u001b[39;00m err:\n\u001b[0;32m    984\u001b[0m     \u001b[39m# GH#26429 do not raise user-facing AssertionError\u001b[39;00m\n",
      "File \u001b[1;32mc:\\Users\\Centr\\anaconda3\\lib\\site-packages\\pandas\\core\\internals\\construction.py:1030\u001b[0m, in \u001b[0;36m_validate_or_indexify_columns\u001b[1;34m(content, columns)\u001b[0m\n\u001b[0;32m   1028\u001b[0m \u001b[39mif\u001b[39;00m \u001b[39mnot\u001b[39;00m is_mi_list \u001b[39mand\u001b[39;00m \u001b[39mlen\u001b[39m(columns) \u001b[39m!=\u001b[39m \u001b[39mlen\u001b[39m(content):  \u001b[39m# pragma: no cover\u001b[39;00m\n\u001b[0;32m   1029\u001b[0m     \u001b[39m# caller's responsibility to check for this...\u001b[39;00m\n\u001b[1;32m-> 1030\u001b[0m     \u001b[39mraise\u001b[39;00m \u001b[39mAssertionError\u001b[39;00m(\n\u001b[0;32m   1031\u001b[0m         \u001b[39mf\u001b[39m\u001b[39m\"\u001b[39m\u001b[39m{\u001b[39;00m\u001b[39mlen\u001b[39m(columns)\u001b[39m}\u001b[39;00m\u001b[39m columns passed, passed data had \u001b[39m\u001b[39m\"\u001b[39m\n\u001b[0;32m   1032\u001b[0m         \u001b[39mf\u001b[39m\u001b[39m\"\u001b[39m\u001b[39m{\u001b[39;00m\u001b[39mlen\u001b[39m(content)\u001b[39m}\u001b[39;00m\u001b[39m columns\u001b[39m\u001b[39m\"\u001b[39m\n\u001b[0;32m   1033\u001b[0m     )\n\u001b[0;32m   1034\u001b[0m \u001b[39melif\u001b[39;00m is_mi_list:\n\u001b[0;32m   1035\u001b[0m \n\u001b[0;32m   1036\u001b[0m     \u001b[39m# check if nested list column, length of each sub-list should be equal\u001b[39;00m\n",
      "\u001b[1;31mAssertionError\u001b[0m: 14 columns passed, passed data had 9 columns",
      "\nThe above exception was the direct cause of the following exception:\n",
      "\u001b[1;31mValueError\u001b[0m                                Traceback (most recent call last)",
      "\u001b[1;32mc:\\Users\\Centr\\OneDrive\\Documents\\Coding Work\\EYBL Project\\Python\\EYBL_shot_events.ipynb Cell 21\u001b[0m in \u001b[0;36m<cell line: 16>\u001b[1;34m()\u001b[0m\n\u001b[0;32m      <a href='vscode-notebook-cell:/c%3A/Users/Centr/OneDrive/Documents/Coding%20Work/EYBL%20Project/Python/EYBL_shot_events.ipynb#X33sZmlsZQ%3D%3D?line=0'>1</a>\u001b[0m column_names \u001b[39m=\u001b[39m [\u001b[39m'\u001b[39m\u001b[39mnamePlayer\u001b[39m\u001b[39m'\u001b[39m, \u001b[39m'\u001b[39m\u001b[39mCatch and Shoot Percentage\u001b[39m\u001b[39m'\u001b[39m, \u001b[39m'\u001b[39m\u001b[39mLeft Drive Layup Percentage\u001b[39m\u001b[39m'\u001b[39m, \u001b[39m'\u001b[39m\u001b[39mRight Drive Layup Percentage\u001b[39m\u001b[39m'\u001b[39m, \n\u001b[0;32m      <a href='vscode-notebook-cell:/c%3A/Users/Centr/OneDrive/Documents/Coding%20Work/EYBL%20Project/Python/EYBL_shot_events.ipynb#X33sZmlsZQ%3D%3D?line=1'>2</a>\u001b[0m \u001b[39m'\u001b[39m\u001b[39mPutback Percentage\u001b[39m\u001b[39m'\u001b[39m, \u001b[39m'\u001b[39m\u001b[39mLeft Drive Pullup Percentage\u001b[39m\u001b[39m'\u001b[39m, \u001b[39m'\u001b[39m\u001b[39mRight Drive Pullup Pecentage\u001b[39m\u001b[39m'\u001b[39m,\n\u001b[0;32m      <a href='vscode-notebook-cell:/c%3A/Users/Centr/OneDrive/Documents/Coding%20Work/EYBL%20Project/Python/EYBL_shot_events.ipynb#X33sZmlsZQ%3D%3D?line=2'>3</a>\u001b[0m \u001b[39m'\u001b[39m\u001b[39mLeft Spin Post Fade Percentage\u001b[39m\u001b[39m'\u001b[39m, \u001b[39m'\u001b[39m\u001b[39mRight Spin Post Fade Percentage\u001b[39m\u001b[39m'\u001b[39m, \u001b[39m'\u001b[39m\u001b[39mLeft Drive Floater Percentage\u001b[39m\u001b[39m'\u001b[39m, \n\u001b[0;32m      <a href='vscode-notebook-cell:/c%3A/Users/Centr/OneDrive/Documents/Coding%20Work/EYBL%20Project/Python/EYBL_shot_events.ipynb#X33sZmlsZQ%3D%3D?line=3'>4</a>\u001b[0m \u001b[39m'\u001b[39m\u001b[39mRight Drive Floater Percentage\u001b[39m\u001b[39m'\u001b[39m, \u001b[39m'\u001b[39m\u001b[39mLeft Spin Layup Percentage\u001b[39m\u001b[39m'\u001b[39m, \u001b[39m'\u001b[39m\u001b[39mRight Spin Layup Percentage\u001b[39m\u001b[39m'\u001b[39m, \u001b[39m'\u001b[39m\u001b[39mSize Up Percentage\u001b[39m\u001b[39m'\u001b[39m]\n\u001b[0;32m      <a href='vscode-notebook-cell:/c%3A/Users/Centr/OneDrive/Documents/Coding%20Work/EYBL%20Project/Python/EYBL_shot_events.ipynb#X33sZmlsZQ%3D%3D?line=4'>5</a>\u001b[0m data \u001b[39m=\u001b[39m [[\u001b[39m'\u001b[39m\u001b[39mWinters Grady\u001b[39m\u001b[39m'\u001b[39m, winters_CandS_percentage, \u001b[39m#winters_left_drive_layup_percentage, \u001b[39;00m\n\u001b[0;32m      <a href='vscode-notebook-cell:/c%3A/Users/Centr/OneDrive/Documents/Coding%20Work/EYBL%20Project/Python/EYBL_shot_events.ipynb#X33sZmlsZQ%3D%3D?line=5'>6</a>\u001b[0m winters_right_drive_layup_percentage, winters_putback_percentage, winters_left_drive_pullup_percentage, \u001b[39m#winters_righ_drive_pullup_percentage, \u001b[39;00m\n\u001b[0;32m      <a href='vscode-notebook-cell:/c%3A/Users/Centr/OneDrive/Documents/Coding%20Work/EYBL%20Project/Python/EYBL_shot_events.ipynb#X33sZmlsZQ%3D%3D?line=6'>7</a>\u001b[0m winters_left_spin_post_fade_percentage, winters_right_spin_post_fade_percentage, \u001b[39m#winters_left_drive_floater_percentage, \u001b[39;00m\n\u001b[1;32m   (...)\u001b[0m\n\u001b[0;32m     <a href='vscode-notebook-cell:/c%3A/Users/Centr/OneDrive/Documents/Coding%20Work/EYBL%20Project/Python/EYBL_shot_events.ipynb#X33sZmlsZQ%3D%3D?line=13'>14</a>\u001b[0m \u001b[39m#isaac_right_drive_floater_percentage, isaac_left_spin_layup_percentage, isaac_right_spin_layup_percentage, \u001b[39;00m\n\u001b[0;32m     <a href='vscode-notebook-cell:/c%3A/Users/Centr/OneDrive/Documents/Coding%20Work/EYBL%20Project/Python/EYBL_shot_events.ipynb#X33sZmlsZQ%3D%3D?line=14'>15</a>\u001b[0m isaac_size_up_percentage]]\n\u001b[1;32m---> <a href='vscode-notebook-cell:/c%3A/Users/Centr/OneDrive/Documents/Coding%20Work/EYBL%20Project/Python/EYBL_shot_events.ipynb#X33sZmlsZQ%3D%3D?line=15'>16</a>\u001b[0m action_percentages_df \u001b[39m=\u001b[39m pd\u001b[39m.\u001b[39;49mDataFrame(data, columns\u001b[39m=\u001b[39;49mcolumn_names)\n\u001b[0;32m     <a href='vscode-notebook-cell:/c%3A/Users/Centr/OneDrive/Documents/Coding%20Work/EYBL%20Project/Python/EYBL_shot_events.ipynb#X33sZmlsZQ%3D%3D?line=16'>17</a>\u001b[0m action_percentages_df \u001b[39m=\u001b[39m shooting_zones_percentages_df\u001b[39m.\u001b[39mset_index(\u001b[39m\"\u001b[39m\u001b[39mnamePlayer\u001b[39m\u001b[39m\"\u001b[39m)\n",
      "File \u001b[1;32mc:\\Users\\Centr\\anaconda3\\lib\\site-packages\\pandas\\core\\frame.py:721\u001b[0m, in \u001b[0;36mDataFrame.__init__\u001b[1;34m(self, data, index, columns, dtype, copy)\u001b[0m\n\u001b[0;32m    716\u001b[0m     \u001b[39mif\u001b[39;00m columns \u001b[39mis\u001b[39;00m \u001b[39mnot\u001b[39;00m \u001b[39mNone\u001b[39;00m:\n\u001b[0;32m    717\u001b[0m         \u001b[39m# error: Argument 1 to \"ensure_index\" has incompatible type\u001b[39;00m\n\u001b[0;32m    718\u001b[0m         \u001b[39m# \"Collection[Any]\"; expected \"Union[Union[Union[ExtensionArray,\u001b[39;00m\n\u001b[0;32m    719\u001b[0m         \u001b[39m# ndarray], Index, Series], Sequence[Any]]\"\u001b[39;00m\n\u001b[0;32m    720\u001b[0m         columns \u001b[39m=\u001b[39m ensure_index(columns)  \u001b[39m# type: ignore[arg-type]\u001b[39;00m\n\u001b[1;32m--> 721\u001b[0m     arrays, columns, index \u001b[39m=\u001b[39m nested_data_to_arrays(\n\u001b[0;32m    722\u001b[0m         \u001b[39m# error: Argument 3 to \"nested_data_to_arrays\" has incompatible\u001b[39;49;00m\n\u001b[0;32m    723\u001b[0m         \u001b[39m# type \"Optional[Collection[Any]]\"; expected \"Optional[Index]\"\u001b[39;49;00m\n\u001b[0;32m    724\u001b[0m         data,\n\u001b[0;32m    725\u001b[0m         columns,\n\u001b[0;32m    726\u001b[0m         index,  \u001b[39m# type: ignore[arg-type]\u001b[39;49;00m\n\u001b[0;32m    727\u001b[0m         dtype,\n\u001b[0;32m    728\u001b[0m     )\n\u001b[0;32m    729\u001b[0m     mgr \u001b[39m=\u001b[39m arrays_to_mgr(\n\u001b[0;32m    730\u001b[0m         arrays,\n\u001b[0;32m    731\u001b[0m         columns,\n\u001b[1;32m   (...)\u001b[0m\n\u001b[0;32m    734\u001b[0m         typ\u001b[39m=\u001b[39mmanager,\n\u001b[0;32m    735\u001b[0m     )\n\u001b[0;32m    736\u001b[0m \u001b[39melse\u001b[39;00m:\n",
      "File \u001b[1;32mc:\\Users\\Centr\\anaconda3\\lib\\site-packages\\pandas\\core\\internals\\construction.py:519\u001b[0m, in \u001b[0;36mnested_data_to_arrays\u001b[1;34m(data, columns, index, dtype)\u001b[0m\n\u001b[0;32m    516\u001b[0m \u001b[39mif\u001b[39;00m is_named_tuple(data[\u001b[39m0\u001b[39m]) \u001b[39mand\u001b[39;00m columns \u001b[39mis\u001b[39;00m \u001b[39mNone\u001b[39;00m:\n\u001b[0;32m    517\u001b[0m     columns \u001b[39m=\u001b[39m ensure_index(data[\u001b[39m0\u001b[39m]\u001b[39m.\u001b[39m_fields)\n\u001b[1;32m--> 519\u001b[0m arrays, columns \u001b[39m=\u001b[39m to_arrays(data, columns, dtype\u001b[39m=\u001b[39;49mdtype)\n\u001b[0;32m    520\u001b[0m columns \u001b[39m=\u001b[39m ensure_index(columns)\n\u001b[0;32m    522\u001b[0m \u001b[39mif\u001b[39;00m index \u001b[39mis\u001b[39;00m \u001b[39mNone\u001b[39;00m:\n",
      "File \u001b[1;32mc:\\Users\\Centr\\anaconda3\\lib\\site-packages\\pandas\\core\\internals\\construction.py:883\u001b[0m, in \u001b[0;36mto_arrays\u001b[1;34m(data, columns, dtype)\u001b[0m\n\u001b[0;32m    880\u001b[0m     data \u001b[39m=\u001b[39m [\u001b[39mtuple\u001b[39m(x) \u001b[39mfor\u001b[39;00m x \u001b[39min\u001b[39;00m data]\n\u001b[0;32m    881\u001b[0m     arr \u001b[39m=\u001b[39m _list_to_arrays(data)\n\u001b[1;32m--> 883\u001b[0m content, columns \u001b[39m=\u001b[39m _finalize_columns_and_data(arr, columns, dtype)\n\u001b[0;32m    884\u001b[0m \u001b[39mreturn\u001b[39;00m content, columns\n",
      "File \u001b[1;32mc:\\Users\\Centr\\anaconda3\\lib\\site-packages\\pandas\\core\\internals\\construction.py:985\u001b[0m, in \u001b[0;36m_finalize_columns_and_data\u001b[1;34m(content, columns, dtype)\u001b[0m\n\u001b[0;32m    982\u001b[0m     columns \u001b[39m=\u001b[39m _validate_or_indexify_columns(contents, columns)\n\u001b[0;32m    983\u001b[0m \u001b[39mexcept\u001b[39;00m \u001b[39mAssertionError\u001b[39;00m \u001b[39mas\u001b[39;00m err:\n\u001b[0;32m    984\u001b[0m     \u001b[39m# GH#26429 do not raise user-facing AssertionError\u001b[39;00m\n\u001b[1;32m--> 985\u001b[0m     \u001b[39mraise\u001b[39;00m \u001b[39mValueError\u001b[39;00m(err) \u001b[39mfrom\u001b[39;00m \u001b[39merr\u001b[39;00m\n\u001b[0;32m    987\u001b[0m \u001b[39mif\u001b[39;00m \u001b[39mlen\u001b[39m(contents) \u001b[39mand\u001b[39;00m contents[\u001b[39m0\u001b[39m]\u001b[39m.\u001b[39mdtype \u001b[39m==\u001b[39m np\u001b[39m.\u001b[39mobject_:\n\u001b[0;32m    988\u001b[0m     contents \u001b[39m=\u001b[39m _convert_object_array(contents, dtype\u001b[39m=\u001b[39mdtype)\n",
      "\u001b[1;31mValueError\u001b[0m: 14 columns passed, passed data had 9 columns"
     ]
    }
   ],
   "source": [
    "column_names = ['namePlayer', 'Catch and Shoot Percentage', 'Left Drive Layup Percentage', 'Right Drive Layup Percentage', \n",
    "'Putback Percentage', 'Left Drive Pullup Percentage', 'Right Drive Pullup Pecentage',\n",
    "'Left Spin Post Fade Percentage', 'Right Spin Post Fade Percentage', 'Left Drive Floater Percentage', \n",
    "'Right Drive Floater Percentage', 'Left Spin Layup Percentage', 'Right Spin Layup Percentage', 'Size Up Percentage']\n",
    "data = [['Winters Grady', winters_CandS_percentage, winters_left_drive_layup_percentage, \n",
    "winters_right_drive_layup_percentage, winters_putback_percentage, winters_left_drive_pullup_percentage, winters_righ_drive_pullup_percentage, \n",
    "winters_left_spin_post_fade_percentage, winters_right_spin_post_fade_percentage, winters_left_drive_floater_percentage, \n",
    "winters_right_drive_floater_percentage, winters_left_spin_layup_percentage, \n",
    "winters_right_spin_layup_percentage, winters_size_up_percentage], \n",
    "],\n",
    "['Isaac Carr', isaac_CandS_percentage, isaac_left_drive_layup_percentage, isaac_right_drive_layup_percentage,\n",
    "isaac_putback_percentage, isaac_left_drive_pullup_percentage, isaac_righ_drive_pullup_percentage, \n",
    "isaac_left_spin_post_fade_percentage, isaac_right_spin_post_fade_percentage, isaac_left_drive_floater_percentage, \n",
    "isaac_right_drive_floater_percentage, isaac_left_spin_layup_percentage, isaac_right_spin_layup_percentage, \n",
    "isaac_size_up_percentage]]\n",
    "action_percentages_df = pd.DataFrame(data, columns=column_names)\n",
    "action_percentages_df = shooting_zones_percentages_df.set_index(\"namePlayer\")"
   ]
  },
  {
   "cell_type": "code",
   "execution_count": null,
   "metadata": {},
   "outputs": [],
   "source": [
    "percenagtes_combined_df = location_percentages_df.merge(action_percentages_df, on=\"namePlayer\")\n",
    "percentages_combined_df.to_csv(\"EYBL_events_percentages.csv\", index=True)"
   ]
  }
 ],
 "metadata": {
  "kernelspec": {
   "display_name": "base",
   "language": "python",
   "name": "python3"
  },
  "language_info": {
   "codemirror_mode": {
    "name": "ipython",
    "version": 3
   },
   "file_extension": ".py",
   "mimetype": "text/x-python",
   "name": "python",
   "nbconvert_exporter": "python",
   "pygments_lexer": "ipython3",
   "version": "3.9.12"
  },
  "orig_nbformat": 4
 },
 "nbformat": 4,
 "nbformat_minor": 2
}
