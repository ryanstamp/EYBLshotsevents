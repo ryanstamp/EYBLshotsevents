{
 "cells": [
  {
   "attachments": {},
   "cell_type": "markdown",
   "metadata": {},
   "source": [
    "Programmer: Ryan Stampfli\n",
    "\n",
    "EYBL Shots Project\n",
    "\n",
    "7/7/2023"
   ]
  },
  {
   "cell_type": "code",
   "execution_count": 1,
   "metadata": {},
   "outputs": [
    {
     "name": "stderr",
     "output_type": "stream",
     "text": [
      "c:\\Users\\Centr\\anaconda3\\lib\\site-packages\\scipy\\__init__.py:146: UserWarning: A NumPy version >=1.16.5 and <1.23.0 is required for this version of SciPy (detected version 1.24.3\n",
      "  warnings.warn(f\"A NumPy version >={np_minversion} and <{np_maxversion}\"\n"
     ]
    }
   ],
   "source": [
    "import utils\n",
    "import pandas as pd\n",
    "import numpy as np\n",
    "from scipy import stats\n",
    "\n",
    "import warnings\n",
    "\n",
    "# Ignore the FutureWarning\n",
    "warnings.filterwarnings(\"ignore\", category=FutureWarning)"
   ]
  },
  {
   "attachments": {},
   "cell_type": "markdown",
   "metadata": {},
   "source": [
    "## Shots Dataframe"
   ]
  },
  {
   "cell_type": "code",
   "execution_count": 2,
   "metadata": {},
   "outputs": [
    {
     "name": "stdout",
     "output_type": "stream",
     "text": [
      "249\n"
     ]
    }
   ],
   "source": [
    "rotary_shots_df = utils.load_data(\"EYBL NW Rotary Shot Data.csv\")\n",
    "print(len(rotary_shots_df))\n",
    "#print(rotary_shots_df.head())"
   ]
  },
  {
   "cell_type": "code",
   "execution_count": 3,
   "metadata": {},
   "outputs": [],
   "source": [
    "rotary_shots_df.drop(labels=[\"Unnamed: 21\"], axis=1, inplace=True)"
   ]
  },
  {
   "cell_type": "code",
   "execution_count": 4,
   "metadata": {},
   "outputs": [
    {
     "name": "stdout",
     "output_type": "stream",
     "text": [
      "yearSeason         0\n",
      "idPlayer           0\n",
      "namePlayer         0\n",
      "nameTeam           0\n",
      "typeEvent          0\n",
      "typeAction         0\n",
      "typeShot           0\n",
      "dateGame           0\n",
      "slugTeamHome       0\n",
      "slugTeamAway       0\n",
      "idGame             0\n",
      "NumberHalf         0\n",
      "zoneBasic          0\n",
      "locationX          0\n",
      "locationY          0\n",
      "distanceShot       0\n",
      "isShotAttempted    0\n",
      "isShotMade         0\n",
      "eventAction        0\n",
      "catchLocation      0\n",
      "finishingHand      0\n",
      "dtype: int64\n"
     ]
    }
   ],
   "source": [
    "#print(rotary_shots_df.isnull().sum())\n",
    "rotary_shots_df.dropna(inplace=True)\n",
    "print(rotary_shots_df.isnull().sum())"
   ]
  },
  {
   "attachments": {},
   "cell_type": "markdown",
   "metadata": {},
   "source": [
    "Separating Player Dataframes"
   ]
  },
  {
   "cell_type": "code",
   "execution_count": 5,
   "metadata": {},
   "outputs": [
    {
     "name": "stdout",
     "output_type": "stream",
     "text": [
      "110\n"
     ]
    }
   ],
   "source": [
    "winters_df = rotary_shots_df[rotary_shots_df[\"namePlayer\"] == 'Winters Grady']\n",
    "#print(winters_df.head())\n",
    "\n",
    "isaac_df = rotary_shots_df[rotary_shots_df[\"namePlayer\"] == 'Isaac Carr']\n",
    "print(len(isaac_df))"
   ]
  },
  {
   "attachments": {},
   "cell_type": "markdown",
   "metadata": {},
   "source": [
    "Creating Location Dataframes"
   ]
  },
  {
   "cell_type": "code",
   "execution_count": 6,
   "metadata": {},
   "outputs": [],
   "source": [
    "winters_left_corner_df = utils.filter_location_df(winters_df, 'Left CN')\n",
    "winters_left_wing_df = utils.filter_location_df(winters_df, 'Left Wing')\n",
    "winters_left_MR_df = utils.filter_location_df(winters_df, 'Left MR')\n",
    "winters_TOK_df = utils.filter_location_df(winters_df, 'Top of Key')\n",
    "winters_right_MR_df = utils.filter_location_df(winters_df, 'Right MR')\n",
    "winters_right_wing_df = utils.filter_location_df(winters_df, 'Right Wing')\n",
    "winters_right_corner_df = utils.filter_location_df(winters_df, 'Right CN')\n",
    "winters_left_SC_df = utils.filter_location_df(winters_df, 'Left SC')\n",
    "winters_right_SC_df = utils.filter_location_df(winters_df, 'Right SC')\n",
    "winters_paint_df = utils.filter_location_df(winters_df, 'Paint')\n",
    "winters_transition_df = utils.filter_location_df(winters_df, 'Transition')\n",
    "winters_left_block_df = utils.filter_location_df(winters_df, 'Left Block')\n",
    "winters_right_block_df = utils.filter_location_df(winters_df, 'Right Block')\n",
    "\n",
    "isaac_left_corner_df = utils.filter_location_df(isaac_df, 'Left CN')\n",
    "isaac_left_wing_df = utils.filter_location_df(isaac_df, 'Left Wing')\n",
    "isaac_left_MR_df = utils.filter_location_df(isaac_df, 'Left MR')\n",
    "isaac_TOK_df = utils.filter_location_df(isaac_df, 'Top of Key')\n",
    "isaac_right_MR_df = utils.filter_location_df(isaac_df, 'Right MR')\n",
    "isaac_right_wing_df = utils.filter_location_df(isaac_df, 'Right Wing')\n",
    "isaac_right_corner_df = utils.filter_location_df(isaac_df, 'Right CN')\n",
    "isaac_left_SC_df = utils.filter_location_df(isaac_df, 'Left SC')\n",
    "isaac_right_SC_df = utils.filter_location_df(isaac_df, 'Right SC')\n",
    "isaac_paint_df = utils.filter_location_df(isaac_df, 'Paint')\n",
    "isaac_transition_df = utils.filter_location_df(isaac_df, 'Transition')\n",
    "isaac_left_block_df = utils.filter_location_df(isaac_df, 'Left Block')\n",
    "isaac_right_block_df = utils.filter_location_df(isaac_df, 'Right Block')\n"
   ]
  },
  {
   "attachments": {},
   "cell_type": "markdown",
   "metadata": {},
   "source": [
    "Calculating Location Shooting Percentage"
   ]
  },
  {
   "cell_type": "code",
   "execution_count": 7,
   "metadata": {},
   "outputs": [
    {
     "name": "stdout",
     "output_type": "stream",
     "text": [
      "Index(['yearSeason', 'idPlayer', 'namePlayer', 'nameTeam', 'typeEvent',\n",
      "       'typeAction', 'typeShot', 'dateGame', 'slugTeamHome', 'slugTeamAway',\n",
      "       'idGame', 'NumberHalf', 'zoneBasic', 'locationX', 'locationY',\n",
      "       'distanceShot', 'isShotAttempted', 'isShotMade', 'eventAction',\n",
      "       'catchLocation', 'finishingHand'],\n",
      "      dtype='object')\n"
     ]
    }
   ],
   "source": [
    "print(winters_left_corner_df.columns)"
   ]
  },
  {
   "cell_type": "code",
   "execution_count": 8,
   "metadata": {},
   "outputs": [
    {
     "name": "stdout",
     "output_type": "stream",
     "text": [
      "0.455\n",
      "0.4\n",
      "0.0\n",
      "0.346\n",
      "0.0\n",
      "0.391\n",
      "0.462\n",
      "0.0\n",
      "0.333\n",
      "0.625\n",
      "0.286\n",
      "0.0\n",
      "0.667\n",
      "\n",
      "0.421\n",
      "0.538\n",
      "0.522\n",
      "0.0\n",
      "0.364\n",
      "0.556\n",
      "0.5\n",
      "0.667\n",
      "0.5\n",
      "0.5\n"
     ]
    }
   ],
   "source": [
    "winters_left_corner_percentage = utils.location_percentage(winters_left_corner_df)\n",
    "winters_left_wing_percentage = utils.location_percentage(winters_left_wing_df)\n",
    "winters_left_MR_percentage = utils.location_percentage(winters_left_MR_df)\n",
    "winters_TOK_percentage = utils.location_percentage(winters_TOK_df)\n",
    "winters_right_MR_percentage = utils.location_percentage(winters_right_MR_df)\n",
    "winters_right_wing_percentage = utils.location_percentage(winters_right_wing_df)\n",
    "winters_right_corner_percentage = utils.location_percentage(winters_right_corner_df)\n",
    "winters_left_SC_percentage = utils.location_percentage(winters_left_SC_df)\n",
    "winters_right_SC_percentage = utils.location_percentage(winters_right_SC_df)\n",
    "winters_paint_percentage = utils.location_percentage(winters_paint_df)\n",
    "winters_transition_percentage = utils.location_percentage(winters_transition_df)\n",
    "winters_left_block_percentage = utils.location_percentage(winters_left_block_df)\n",
    "winters_right_block_percentage = utils.location_percentage(winters_right_block_df)\n",
    "\n",
    "print(\"\")\n",
    "\n",
    "isaac_TOK_percentage = utils.location_percentage(isaac_TOK_df)\n",
    "isaac_left_corner_percentage = utils.location_percentage(isaac_left_corner_df)\n",
    "isaac_left_wing_percentage = utils.location_percentage(isaac_left_wing_df)\n",
    "#isaac_left_MR_percentage = utils.location_percentage(isaac_left_MR_df)\n",
    "isaac_right_MR_percentage = utils.location_percentage(isaac_right_MR_df)\n",
    "isaac_right_wing_percentage = utils.location_percentage(isaac_right_wing_df)\n",
    "isaac_right_corner_percentage = utils.location_percentage(isaac_right_corner_df)\n",
    "isaac_left_SC_percentage = utils.location_percentage(isaac_left_SC_df)\n",
    "#isaac_right_SC_percentage = utils.location_percentage(isaac_right_SC_df)\n",
    "isaac_paint_percentage = utils.location_percentage(isaac_paint_df)\n",
    "isaac_transition_percentage = utils.location_percentage(isaac_transition_df)\n",
    "#isaac_left_block_percentage = utils.location_percentage(isaac_left_block_df)\n",
    "isaac_right_block_percentage = utils.location_percentage(isaac_right_block_df)"
   ]
  },
  {
   "attachments": {},
   "cell_type": "markdown",
   "metadata": {},
   "source": [
    "Exporting Data"
   ]
  },
  {
   "cell_type": "code",
   "execution_count": 9,
   "metadata": {},
   "outputs": [],
   "source": [
    "column_names = ['namePlayer', 'Top Of Key Percentage', 'Left Wing Percentage', 'Left Corner Percentage',\n",
    "                'Left Mid Range Percentage', 'Left Short Corner Percentage', 'Left Block Percentage', 'Paint Percentage',\n",
    "                'Right Block Percentage', 'Right Short Corner Percentage', 'Right Mid Range Percentage',\n",
    "                'Right Corner Percentage', 'Right Wing Percentage', 'Transition Percentage']\n",
    "data = [['Winters Grady', winters_TOK_percentage, winters_left_wing_percentage, winters_left_corner_percentage,\n",
    "         winters_left_MR_percentage, winters_left_SC_percentage, winters_left_block_percentage, winters_paint_percentage,\n",
    "         winters_right_block_percentage, winters_right_SC_percentage, winters_right_MR_percentage,\n",
    "         winters_right_corner_percentage, winters_right_wing_percentage, winters_transition_percentage],\n",
    "\n",
    "        ['Isaac Carr', isaac_TOK_percentage, isaac_left_wing_percentage, isaac_left_corner_percentage, 'isaac_left_MR_percentage', \n",
    "        isaac_left_SC_percentage, 'isaac_left_block_percentage', \n",
    "        isaac_paint_percentage, isaac_right_block_percentage, 'isaac_right_SC_percentage', \n",
    "        isaac_right_MR_percentage, isaac_right_corner_percentage, isaac_right_wing_percentage, isaac_transition_percentage]]\n",
    "\n",
    "location_percentages_df = pd.DataFrame(data, columns=column_names)\n",
    "location_percentages_df = location_percentages_df.set_index(\"namePlayer\")"
   ]
  },
  {
   "cell_type": "code",
   "execution_count": 10,
   "metadata": {},
   "outputs": [],
   "source": [
    "location_percentages_df.to_csv(\"EYBL_events_percentages.csv\", index=True)"
   ]
  },
  {
   "attachments": {},
   "cell_type": "markdown",
   "metadata": {},
   "source": [
    "Creating Action Dataframes"
   ]
  },
  {
   "cell_type": "code",
   "execution_count": 11,
   "metadata": {},
   "outputs": [],
   "source": [
    "winters_CandS_df = utils.filter_action_df(winters_df, 'C&S')\n",
    "winters_left_drive_layup_df = utils.filter_action_df(winters_df, 'LD LU')\n",
    "winters_right_drive_layup_df = utils.filter_action_df(winters_df, 'RD LU')\n",
    "winters_putback_df = utils.filter_action_df(winters_df, 'PB')\n",
    "winters_left_drive_pullup_df = utils.filter_action_df(winters_df, 'LD PU')\n",
    "winters_right_drive_pullup_df = utils.filter_action_df(winters_df, 'RD PU')\n",
    "winters_left_spin_post_fade_df = utils.filter_action_df(winters_df, 'SL PF')\n",
    "winters_right_spin_post_fade_df = utils.filter_action_df(winters_df, 'SR PF')\n",
    "winters_left_drive_floater_df = utils.filter_action_df(winters_df, 'LD FL')\n",
    "winters_right_drive_floater_df = utils.filter_action_df(winters_df, 'RD FL')\n",
    "winters_left_spin_layup_df = utils.filter_action_df(winters_df, 'SL LU')\n",
    "winters_right_spin_layup_df = utils.filter_action_df(winters_df, 'SR LU')\n",
    "winters_size_up_df = utils.filter_action_df(winters_df, 'SU')\n",
    "\n",
    "isaac_CandS_df = utils.filter_action_df(isaac_df, 'C&S')\n",
    "isaac_left_drive_layup_df = utils.filter_action_df(isaac_df, 'LD LU')\n",
    "isaac_right_drive_layup_df = utils.filter_action_df(isaac_df, 'RD LU')\n",
    "isaac_putback_df = utils.filter_action_df(isaac_df, 'PB')\n",
    "isaac_left_drive_pullup_df = utils.filter_action_df(isaac_df, 'LD PU')\n",
    "isaac_right_drive_pullup_df = utils.filter_action_df(isaac_df, 'RD PU')\n",
    "isaac_left_spin_post_fade_df = utils.filter_action_df(isaac_df, 'SL PF')\n",
    "isaac_right_spin_post_fade_df = utils.filter_action_df(isaac_df, 'SR PF')\n",
    "isaac_left_drive_floater_df = utils.filter_action_df(isaac_df, 'LD FL')\n",
    "isaac_right_drive_floater_df = utils.filter_action_df(isaac_df, 'RD FL')\n",
    "isaac_left_spin_layup_df = utils.filter_action_df(isaac_df, 'SL LU')\n",
    "isaac_right_spin_layup_df = utils.filter_action_df(isaac_df, 'SR LU')\n",
    "isaac_size_up_df = utils.filter_action_df(isaac_df, 'SU')"
   ]
  },
  {
   "attachments": {},
   "cell_type": "markdown",
   "metadata": {},
   "source": [
    "Calculating Action Shooting Percentages"
   ]
  },
  {
   "cell_type": "code",
   "execution_count": 12,
   "metadata": {},
   "outputs": [
    {
     "name": "stdout",
     "output_type": "stream",
     "text": [
      "Shots: 52\n",
      "0.308\n",
      "Shots: 6\n",
      "0.5\n",
      "Shots: 4\n",
      "0.75\n",
      "Shots: 2\n",
      "0.5\n",
      "Shots: 6\n",
      "0.333\n",
      "Shots: 8\n",
      "0.25\n",
      "Shots: 2\n",
      "0.5\n",
      "Shots: 1\n",
      "0.0\n",
      "Shots: 25\n",
      "0.44\n",
      "Shots: 12\n",
      "0.333\n",
      "Shots: 5\n",
      "0.6\n",
      "Shots: 9\n",
      "0.333\n",
      "\n",
      "Shots: 39\n",
      "0.385\n",
      "Shots: 4\n",
      "0.25\n",
      "Shots: 2\n",
      "1.0\n",
      "Shots: 23\n",
      "0.609\n",
      "Shots: 17\n",
      "0.353\n",
      "Shots: 14\n",
      "0.643\n",
      "Shots: 6\n",
      "0.333\n",
      "Shots: 1\n",
      "0.0\n"
     ]
    }
   ],
   "source": [
    "winters_CandS_percentage = utils.action_percentage(winters_CandS_df)\n",
    "winters_putback_percentage = utils.action_percentage(winters_putback_df)\n",
    "winters_size_up_percentage = utils.action_percentage(winters_size_up_df)\n",
    "winters_left_drive_layup_percentage = utils.action_percentage(winters_left_drive_layup_df)\n",
    "winters_left_drive_pullup_percentage = utils.action_percentage(winters_left_drive_pullup_df)\n",
    "winters_left_spin_post_fade_percentage = utils.action_percentage(winters_left_spin_post_fade_df)\n",
    "winters_left_drive_floater_percentage = utils.action_percentage(winters_left_drive_floater_df)\n",
    "winters_left_spin_layup_percentage = utils.action_percentage(winters_left_spin_layup_df)\n",
    "winters_right_drive_layup_percentage = utils.action_percentage(winters_right_drive_layup_df)\n",
    "winters_right_drive_pullup_percentage = utils.action_percentage(winters_right_drive_pullup_df)\n",
    "winters_right_spin_post_fade_percentage = utils.action_percentage(winters_right_spin_post_fade_df)\n",
    "winters_right_drive_floater_percentage = utils.action_percentage(winters_right_drive_floater_df)\n",
    "#winters_right_spin_layup_percentage = utils.action_percentage(winters_right_spin_layup_df)\n",
    "\n",
    "\n",
    "print(\"\")\n",
    "\n",
    "isaac_CandS_percentage = utils.action_percentage(isaac_CandS_df)\n",
    "isaac_putback_percentage = utils.action_percentage(isaac_putback_df)\n",
    "isaac_size_up_percentage = utils.action_percentage(isaac_size_up_df)\n",
    "isaac_left_drive_layup_percentage = utils.action_percentage(isaac_left_drive_layup_df)\n",
    "isaac_left_drive_pullup_percentage = utils.action_percentage(isaac_left_drive_pullup_df)\n",
    "#isaac_left_spin_post_fade_percentage = utils.action_percentage(isaac_left_spin_post_fade_df)\n",
    "#isaac_left_drive_floater_percentage = utils.action_percentage(isaac_left_drive_floater_df)\n",
    "#isaac_left_spin_layup_percentage = utils.action_percentage(isaac_left_spin_layup_df)\n",
    "isaac_right_drive_layup_percentage = utils.action_percentage(isaac_right_drive_layup_df)\n",
    "isaac_right_drive_pullup_percentage = utils.action_percentage(isaac_right_drive_pullup_df)\n",
    "isaac_right_spin_post_fade_percentage = utils.action_percentage(isaac_right_spin_post_fade_df)\n",
    "#isaac_right_drive_floater_percentage = utils.action_percentage(isaac_right_drive_floater_df)\n",
    "#isaac_right_spin_layup_percentage = utils.action_percentage(isaac_right_spin_layup_df)"
   ]
  },
  {
   "cell_type": "code",
   "execution_count": 13,
   "metadata": {},
   "outputs": [],
   "source": [
    "column_names = ['namePlayer', 'Catch and Shoot Percentage', 'Left Drive Layup Percentage', 'Right Drive Layup Percentage', \n",
    "'Putback Percentage', 'Left Drive Pullup Percentage', 'Right Drive Pullup Pecentage',\n",
    "'Left Spin Post Fade Percentage', 'Right Spin Post Fade Percentage', 'Left Drive Floater Percentage', \n",
    "'Right Drive Floater Percentage', 'Left Spin Layup Percentage', 'Right Spin Layup Percentage', 'Size Up Percentage']\n",
    "data = [['Winters Grady', winters_CandS_percentage, winters_left_drive_layup_percentage, \n",
    "winters_right_drive_layup_percentage, winters_putback_percentage, winters_left_drive_pullup_percentage, winters_right_drive_pullup_percentage, \n",
    "winters_left_spin_post_fade_percentage, winters_right_spin_post_fade_percentage, winters_left_drive_floater_percentage, \n",
    "winters_right_drive_floater_percentage, winters_left_spin_layup_percentage, \n",
    "'winters_right_spin_layup_percentage', winters_size_up_percentage],\n",
    "['Isaac Carr', isaac_CandS_percentage, isaac_left_drive_layup_percentage, isaac_right_drive_layup_percentage,\n",
    "isaac_putback_percentage, isaac_left_drive_pullup_percentage, isaac_right_drive_pullup_percentage, \n",
    "'isaac_left_spin_post_fade_percentage', isaac_right_spin_post_fade_percentage, 'isaac_left_drive_floater_percentage', \n",
    "'isaac_right_drive_floater_percentage', 'isaac_left_spin_layup_percentage', 'isaac_right_spin_layup_percentage', \n",
    "isaac_size_up_percentage]]\n",
    "action_percentages_df = pd.DataFrame(data, columns=column_names)\n",
    "action_percentages_df = action_percentages_df.set_index(\"namePlayer\")"
   ]
  },
  {
   "cell_type": "code",
   "execution_count": 14,
   "metadata": {},
   "outputs": [],
   "source": [
    "percentages_combined_df = location_percentages_df.merge(action_percentages_df, on=\"namePlayer\")\n",
    "percentages_combined_df.to_csv(\"EYBL_events_percentages.csv\", index=True)"
   ]
  },
  {
   "cell_type": "markdown",
   "metadata": {},
   "source": [
    "Creating Dataframe with only finishes "
   ]
  },
  {
   "cell_type": "code",
   "execution_count": 15,
   "metadata": {},
   "outputs": [
    {
     "name": "stdout",
     "output_type": "stream",
     "text": [
      "51\n",
      "42\n"
     ]
    }
   ],
   "source": [
    "winters_finishes_df = utils.delete_none_finishes(winters_df, 'finishingHand', 'none')\n",
    "isaac_finishes_df = utils.delete_none_finishes(isaac_df, 'finishingHand', 'none')\n",
    "print(len(winters_finishes_df))\n",
    "print(len(isaac_finishes_df))"
   ]
  },
  {
   "cell_type": "code",
   "execution_count": 16,
   "metadata": {},
   "outputs": [
    {
     "name": "stdout",
     "output_type": "stream",
     "text": [
      "50\n",
      "0\n",
      "\n",
      "25\n",
      "17\n"
     ]
    }
   ],
   "source": [
    "winters_right_finishes_count = utils.finishingHand_count(winters_finishes_df, 'finishingHand', 'right')\n",
    "winters_left_finishes_count = utils.finishingHand_count(winters_finishes_df, 'finishingHand', 'left')\n",
    "print(winters_right_finishes_count)\n",
    "print(winters_left_finishes_count)\n",
    "\n",
    "print(\"\")\n",
    "\n",
    "isaac_right_finishes_count = utils.finishingHand_count(isaac_finishes_df, 'finishingHand', 'right')\n",
    "isaac_left_finishes_count = utils.finishingHand_count(isaac_finishes_df, 'finishingHand', 'left')\n",
    "print(isaac_right_finishes_count)\n",
    "print(isaac_left_finishes_count)"
   ]
  },
  {
   "cell_type": "code",
   "execution_count": 17,
   "metadata": {},
   "outputs": [],
   "source": [
    "winters_leftHand_df = utils.filter_hand_df(winters_df, 'left')\n",
    "winters_rightHand_df = utils.filter_hand_df(winters_df, 'right')\n",
    "\n",
    "isaac_leftHand_df = utils.filter_hand_df(isaac_df, 'left')\n",
    "isaac_rightHand_df = utils.filter_hand_df(isaac_df, 'right')"
   ]
  },
  {
   "cell_type": "code",
   "execution_count": 18,
   "metadata": {},
   "outputs": [
    {
     "name": "stdout",
     "output_type": "stream",
     "text": [
      "0.46\n",
      "\n",
      "0.529\n",
      "0.6\n"
     ]
    }
   ],
   "source": [
    "#winters_left_finishes_percentage = utils.finishingHand_percentage(winters_leftHand_df)\n",
    "winters_right_finishes_percentage = utils.finishingHand_percentage(winters_rightHand_df)\n",
    "\n",
    "print(\"\")\n",
    "\n",
    "isaac_left_finishes_percentage = utils.finishingHand_percentage(isaac_leftHand_df)\n",
    "isaac_right_finishes_percentage = utils.finishingHand_percentage(isaac_rightHand_df)"
   ]
  },
  {
   "cell_type": "code",
   "execution_count": 19,
   "metadata": {},
   "outputs": [],
   "source": [
    "column_names = ['namePlayer', 'Left Hand Finish Percentage', 'Right Hand Finish Percentage']\n",
    "data = [['Winters Grady', 'winters_left_finishes_percentage', winters_right_finishes_percentage],\n",
    "['Isaac Carr', isaac_left_finishes_percentage, isaac_right_finishes_percentage]]\n",
    "finishingHand_percentages_df = pd.DataFrame(data, columns=column_names)\n",
    "finishingHand_percentages_df = finishingHand_percentages_df.set_index(\"namePlayer\")"
   ]
  },
  {
   "cell_type": "code",
   "execution_count": 20,
   "metadata": {},
   "outputs": [],
   "source": [
    "percentages_combined_df = percentages_combined_df.merge(finishingHand_percentages_df, on=\"namePlayer\")\n",
    "percentages_combined_df.to_csv(\"EYBL_events_percentages.csv\", index=True)"
   ]
  },
  {
   "cell_type": "markdown",
   "metadata": {},
   "source": [
    "Creating Drive Finishes Data"
   ]
  },
  {
   "cell_type": "code",
   "execution_count": 21,
   "metadata": {},
   "outputs": [
    {
     "name": "stdout",
     "output_type": "stream",
     "text": [
      "0.394\n"
     ]
    }
   ],
   "source": [
    "winters_right_drive_df = winters_df[(winters_df['eventAction'] == 'RD LU') | (winters_df['eventAction'] == 'RD FL')]\n",
    "\n",
    "winters_right_drive_makes_df = winters_right_drive_df[(winters_right_drive_df['typeEvent'] == 'Made Shot')]\n",
    "hand_makes = winters_right_drive_makes_df['isShotMade'].count()\n",
    "\n",
    "\n",
    "winters_drive_right_finish_right_df = utils.creating_driving_finishing_df(winters_right_drive_df, 'right')\n",
    "winters_drive_right_finish_right_percentage = utils.finishingHand_percentage(winters_drive_right_finish_right_df)\n",
    "\n",
    "# winters_drive_right_finish_left_df = utils.creating_driving_finishing_df(winters_right_drive_df, 'left')\n",
    "# #winters_drive_right_finish_left_percentage = utils.finishingHand_percentage(winters_drive_right_finish_left_df)"
   ]
  },
  {
   "cell_type": "code",
   "execution_count": 22,
   "metadata": {},
   "outputs": [
    {
     "name": "stdout",
     "output_type": "stream",
     "text": [
      "0.5\n"
     ]
    }
   ],
   "source": [
    "winters_left_drive_df = winters_df[(winters_df['eventAction'] == 'LD LU') | (winters_df['eventAction'] == 'LD FL')]\n",
    "#print(len(winters_left_drive_df))\n",
    "\n",
    "winters_drive_left_finish_right_df = utils.creating_driving_finishing_df(winters_left_drive_df, 'right')\n",
    "winters_drive_left_finish_right_percentage = utils.finishingHand_percentage(winters_drive_left_finish_right_df)\n",
    "\n",
    "winters_drive_left_finish_left_df = utils.creating_driving_finishing_df(winters_left_drive_df, 'left')\n",
    "#winters_drive_left_finish_left_percentage = utils.finishingHand_percentage(winters_drive_left_finish_left_df)"
   ]
  },
  {
   "cell_type": "code",
   "execution_count": 23,
   "metadata": {},
   "outputs": [
    {
     "name": "stdout",
     "output_type": "stream",
     "text": [
      "0.571\n",
      "0.6\n"
     ]
    }
   ],
   "source": [
    "isaac_right_drive_df = isaac_df[(isaac_df['eventAction'] == 'RD LU') | (isaac_df['eventAction'] == 'RD FL')]\n",
    "#print(len(isaac_right_drive_df))\n",
    "\n",
    "isaac_drive_right_finish_right_df = utils.creating_driving_finishing_df(isaac_right_drive_df, 'right')\n",
    "isaac_drive_right_finish_right_percentage = utils.finishingHand_percentage(isaac_drive_right_finish_right_df)\n",
    "\n",
    "isaac_drive_right_finish_left_df = utils.creating_driving_finishing_df(isaac_right_drive_df, 'left')\n",
    "isaac_drive_right_finish_left_percentage = utils.finishingHand_percentage(isaac_drive_right_finish_left_df)"
   ]
  },
  {
   "cell_type": "code",
   "execution_count": 24,
   "metadata": {},
   "outputs": [
    {
     "name": "stdout",
     "output_type": "stream",
     "text": [
      "23\n",
      "0.727\n",
      "0.5\n"
     ]
    }
   ],
   "source": [
    "isaac_left_drive_df = isaac_df[(isaac_df['eventAction'] == 'LD LU') | (isaac_df['eventAction'] == 'LD FL')]\n",
    "print(len(isaac_left_drive_df))\n",
    "\n",
    "isaac_drive_left_finish_right_df = utils.creating_driving_finishing_df(isaac_left_drive_df, 'right')\n",
    "isaac_drive_left_finish_right_percentage = utils.finishingHand_percentage(isaac_drive_left_finish_right_df)\n",
    "\n",
    "isaac_drive_left_finish_left_df = utils.creating_driving_finishing_df(isaac_left_drive_df, 'left')\n",
    "isaac_drive_left_finish_left_percentage = utils.finishingHand_percentage(isaac_drive_left_finish_left_df)"
   ]
  },
  {
   "cell_type": "code",
   "execution_count": 25,
   "metadata": {},
   "outputs": [],
   "source": [
    "column_names = ['namePlayer', 'Left Drive Left Hand Finish Percentage', 'Left Drive Right Hand Finish Percentage', \n",
    "                'Right Drive Left Hand Finish Percentage', 'Right Drive Right Hand Finish Percentage']\n",
    "data = [['Winters Grady', 'winters_drive_left_finish_left_percentage', winters_drive_left_finish_right_percentage, \n",
    "         'winters_drive_right_finish_left_percentage', winters_drive_right_finish_right_percentage],\n",
    "['Isaac Carr', isaac_drive_left_finish_left_percentage, isaac_drive_left_finish_right_percentage, \n",
    "         isaac_drive_right_finish_left_percentage, isaac_drive_right_finish_right_percentage]]\n",
    "drivingDirection_finishingHand_percentages_df = pd.DataFrame(data, columns=column_names)\n",
    "drivingDirection_finishingHand_percentages_df = drivingDirection_finishingHand_percentages_df.set_index(\"namePlayer\")"
   ]
  },
  {
   "cell_type": "code",
   "execution_count": 26,
   "metadata": {},
   "outputs": [],
   "source": [
    "percentages_combined_df = percentages_combined_df.merge(drivingDirection_finishingHand_percentages_df, on=\"namePlayer\")\n",
    "percentages_combined_df.to_csv(\"EYBL_events_percentages.csv\", index=True)"
   ]
  },
  {
   "cell_type": "markdown",
   "metadata": {},
   "source": [
    "Creating Catch Location Percentages"
   ]
  },
  {
   "cell_type": "code",
   "execution_count": 32,
   "metadata": {},
   "outputs": [],
   "source": [
    "winters_left_catch_df = winters_df[(winters_df['catchLocation'] == 'Left CN') | (winters_df['catchLocation'] == 'Left MR') | \n",
    "(winters_df['catchLocation'] == 'Left SC') | (winters_df['catchLocation'] == 'Left Wing')]\n",
    "\n",
    "winters_left_catch_left_action_df = winters_left_catch_df[(winters_left_catch_df['eventAction'] == 'LD FL') | (winters_left_catch_df['eventAction'] == 'LD LU') | \n",
    "(winters_left_catch_df['eventAction'] == 'LD PU') | (winters_left_catch_df['eventAction'] == 'SL PF')]\n",
    "\n",
    "winters_left_catch_right_action_df = winters_left_catch_df[(winters_left_catch_df['eventAction'] == 'RD FL') | (winters_left_catch_df['eventAction'] == 'RD LU') | \n",
    "(winters_left_catch_df['eventAction'] == 'RD PU') | (winters_left_catch_df['eventAction'] == 'SR PF')]"
   ]
  },
  {
   "cell_type": "code",
   "execution_count": 33,
   "metadata": {},
   "outputs": [],
   "source": [
    "winters_right_catch_df = winters_df[(winters_df['catchLocation'] == 'Right CN') | (winters_df['catchLocation'] == 'Right MR') | \n",
    "(winters_df['catchLocation'] == 'Right SC') | (winters_df['catchLocation'] == 'Right Wing')]\n",
    "\n",
    "winters_right_catch_left_action_df = winters_right_catch_df[(winters_right_catch_df['eventAction'] == 'LD FL') | (winters_right_catch_df['eventAction'] == 'LD LU') | \n",
    "(winters_right_catch_df['eventAction'] == 'LD PU') | (winters_right_catch_df['eventAction'] == 'SL PF')]\n",
    "\n",
    "winters_right_catch_right_action_df = winters_right_catch_df[(winters_right_catch_df['eventAction'] == 'RD FL') | (winters_right_catch_df['eventAction'] == 'RD LU') | \n",
    "(winters_right_catch_df['eventAction'] == 'RD PU') | (winters_right_catch_df['eventAction'] == 'SR PF')]"
   ]
  }
 ],
 "metadata": {
  "kernelspec": {
   "display_name": "base",
   "language": "python",
   "name": "python3"
  },
  "language_info": {
   "codemirror_mode": {
    "name": "ipython",
    "version": 3
   },
   "file_extension": ".py",
   "mimetype": "text/x-python",
   "name": "python",
   "nbconvert_exporter": "python",
   "pygments_lexer": "ipython3",
   "version": "3.9.12"
  },
  "orig_nbformat": 4
 },
 "nbformat": 4,
 "nbformat_minor": 2
}
