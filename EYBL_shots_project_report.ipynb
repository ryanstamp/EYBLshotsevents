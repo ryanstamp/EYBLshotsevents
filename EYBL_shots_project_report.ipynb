{
 "cells": [
  {
   "attachments": {},
   "cell_type": "markdown",
   "metadata": {},
   "source": [
    "Programmer: Ryan Stampfli\n",
    "\n",
    "EYBL Shots Project\n",
    "\n",
    "5/21/23"
   ]
  },
  {
   "cell_type": "code",
   "execution_count": 1,
   "metadata": {},
   "outputs": [
    {
     "name": "stderr",
     "output_type": "stream",
     "text": [
      "c:\\Users\\Centr\\anaconda3\\lib\\site-packages\\scipy\\__init__.py:146: UserWarning: A NumPy version >=1.16.5 and <1.23.0 is required for this version of SciPy (detected version 1.24.3\n",
      "  warnings.warn(f\"A NumPy version >={np_minversion} and <{np_maxversion}\"\n"
     ]
    }
   ],
   "source": [
    "import EYBL_shots_project\n",
    "import pandas as pd\n",
    "import numpy as np\n",
    "from scipy import stats\n",
    "\n",
    "import warnings\n",
    "\n",
    "# Ignore the FutureWarning\n",
    "warnings.filterwarnings(\"ignore\", category=FutureWarning)"
   ]
  },
  {
   "attachments": {},
   "cell_type": "markdown",
   "metadata": {},
   "source": [
    "## Shots Dataframe"
   ]
  },
  {
   "cell_type": "code",
   "execution_count": 2,
   "metadata": {},
   "outputs": [
    {
     "name": "stdout",
     "output_type": "stream",
     "text": [
      "            idPlayer     namePlayer          nameTeam    typeEvent  \\\n",
      "yearSeason                                                           \n",
      "2023               0  Winters Grady  NW Rotary Rebels  Missed Shot   \n",
      "2023               0  Winters Grady  NW Rotary Rebels  Missed Shot   \n",
      "2023               0  Winters Grady  NW Rotary Rebels  Missed Shot   \n",
      "2023               0  Winters Grady  NW Rotary Rebels  Missed Shot   \n",
      "2023               0  Winters Grady  NW Rotary Rebels    Made Shot   \n",
      "\n",
      "                    typeAction        typeShot  dateGame slugTeamHome  \\\n",
      "yearSeason                                                              \n",
      "2023                   Floater  2PT Field Goal  20230527         NWRR   \n",
      "2023                 Jump Shot  2PT Field Goal  20230527         NWRR   \n",
      "2023                   Floater  2PT Field Goal  20230527         NWRR   \n",
      "2023        Driving Layup Shot  2PT Field Goal  20230527         NWRR   \n",
      "2023          Pullup Jump Shot  3PT Field Goal  20230527         NWRR   \n",
      "\n",
      "           slugTeamAway  idGame  NumberHalf              zoneBasic  locationX  \\\n",
      "yearSeason                                                                      \n",
      "2023                LIV       9           2        Restricted Area       -6.0   \n",
      "2023                LIV       9           2              Mid-Range       18.0   \n",
      "2023                LIV       9           2        Restricted Area        5.5   \n",
      "2023                LIV       9           2        Restricted Area        1.5   \n",
      "2023                LIV       9           2  Above the Break Three       18.0   \n",
      "\n",
      "            locationY     distanceShot  isShotAttempted  isShotMade  \\\n",
      "yearSeason                                                            \n",
      "2023              4.0  Less than 8 ft.             True       False   \n",
      "2023             20.0         8-16 ft.             True       False   \n",
      "2023              8.0  Less than 8 ft.             True       False   \n",
      "2023              5.0  Less than 8 ft.             True       False   \n",
      "2023             22.0       19.75+ ft.             True        True   \n",
      "\n",
      "           Unnamed: 18  \n",
      "yearSeason              \n",
      "2023               NaN  \n",
      "2023               NaN  \n",
      "2023               NaN  \n",
      "2023               NaN  \n",
      "2023               NaN  \n"
     ]
    }
   ],
   "source": [
    "rotary_shots_df = EYBL_shots_project.load_data(\"EYBL NW Rotary Shot Data.csv\")\n",
    "print(rotary_shots_df.tail())"
   ]
  },
  {
   "cell_type": "code",
   "execution_count": 3,
   "metadata": {},
   "outputs": [
    {
     "name": "stdout",
     "output_type": "stream",
     "text": [
      "idPlayer           0\n",
      "namePlayer         0\n",
      "nameTeam           0\n",
      "typeEvent          0\n",
      "typeAction         0\n",
      "typeShot           0\n",
      "dateGame           0\n",
      "slugTeamHome       0\n",
      "slugTeamAway       0\n",
      "idGame             0\n",
      "NumberHalf         0\n",
      "zoneBasic          0\n",
      "locationX          0\n",
      "locationY          0\n",
      "distanceShot       0\n",
      "isShotAttempted    0\n",
      "isShotMade         0\n",
      "dtype: int64\n"
     ]
    }
   ],
   "source": [
    "rotary_shots_df.drop(labels=[\"Unnamed: 18\"], axis=1, inplace=True)\n",
    "print(rotary_shots_df.isnull().sum())"
   ]
  },
  {
   "cell_type": "code",
   "execution_count": 4,
   "metadata": {},
   "outputs": [],
   "source": [
    "desired_id_games = [9, 10, 11, 12]\n",
    "select_games_df = rotary_shots_df.loc[rotary_shots_df['idGame'].isin(desired_id_games)]\n",
    "games_played = EYBL_shots_project.count_unique_id_games(rotary_shots_df)"
   ]
  },
  {
   "attachments": {},
   "cell_type": "markdown",
   "metadata": {},
   "source": [
    "Winters Dataframe"
   ]
  },
  {
   "cell_type": "code",
   "execution_count": 5,
   "metadata": {},
   "outputs": [],
   "source": [
    "winters_df = rotary_shots_df[rotary_shots_df[\"namePlayer\"] == 'Winters Grady']\n",
    "#winters_df = select_games_df[select_games_df[\"namePlayer\"] == 'Winters Grady']"
   ]
  },
  {
   "attachments": {},
   "cell_type": "markdown",
   "metadata": {},
   "source": [
    "Winters Totals"
   ]
  },
  {
   "cell_type": "code",
   "execution_count": 6,
   "metadata": {},
   "outputs": [
    {
     "name": "stdout",
     "output_type": "stream",
     "text": [
      "Winters Total Shots: 139\n",
      "Winters Threes Attempted: 49\n",
      "Winters Total Free Throws: 33\n"
     ]
    }
   ],
   "source": [
    "winters_total_shots = winters_df['isShotAttempted'].count()\n",
    "print(\"Winters Total Shots:\", winters_total_shots)\n",
    "\n",
    "winters_threes_attempted_df = winters_df[winters_df[\"typeShot\"] == '3PT Field Goal']\n",
    "winters_threes_attempted_count = winters_threes_attempted_df['isShotAttempted'].count()\n",
    "print(\"Winters Threes Attempted:\", winters_threes_attempted_count)\n",
    "\n",
    "winters_free_throws_attempted = 33\n",
    "print(\"Winters Total Free Throws:\", winters_free_throws_attempted)\n"
   ]
  },
  {
   "attachments": {},
   "cell_type": "markdown",
   "metadata": {},
   "source": [
    "Winters Makes"
   ]
  },
  {
   "cell_type": "code",
   "execution_count": 7,
   "metadata": {},
   "outputs": [
    {
     "name": "stdout",
     "output_type": "stream",
     "text": [
      "Winters Made Shots: 53\n",
      "Winters Made Threes: 18\n",
      "Winters Made Free Throw: 26\n",
      "Winters Total Points: 150\n",
      "Winters PPG: 12.5\n"
     ]
    }
   ],
   "source": [
    "winters_made_df = winters_df[winters_df[\"typeEvent\"] == 'Made Shot']\n",
    "winters_made_shots = winters_made_df['isShotMade'].count()\n",
    "print(\"Winters Made Shots:\", winters_made_shots)\n",
    "\n",
    "winters_made_threes = winters_threes_attempted_df[winters_threes_attempted_df['typeEvent'] == 'Made Shot']\n",
    "winters_made_threes_count = winters_made_threes['isShotAttempted'].count()\n",
    "print(\"Winters Made Threes:\", winters_made_threes_count)\n",
    "\n",
    "winters_made_free_throws = 26\n",
    "print(\"Winters Made Free Throw:\", winters_made_free_throws)\n",
    "\n",
    "winters_points = EYBL_shots_project.calculate_points(winters_df, winters_made_free_throws)\n",
    "print(\"Winters Total Points:\", winters_points)\n",
    "\n",
    "winters_PPG = winters_points / games_played\n",
    "print(\"Winters PPG:\", winters_PPG)"
   ]
  },
  {
   "attachments": {},
   "cell_type": "markdown",
   "metadata": {},
   "source": [
    "Isaac Dataframe"
   ]
  },
  {
   "cell_type": "code",
   "execution_count": 8,
   "metadata": {},
   "outputs": [],
   "source": [
    "isaac_df = rotary_shots_df[rotary_shots_df[\"namePlayer\"] == 'Isaac Carr']\n",
    "#isaac_df = select_games_df[select_games_df[\"namePlayer\"] == 'Isaac Carr']"
   ]
  },
  {
   "attachments": {},
   "cell_type": "markdown",
   "metadata": {},
   "source": [
    "Isaac Totals"
   ]
  },
  {
   "cell_type": "code",
   "execution_count": 9,
   "metadata": {},
   "outputs": [
    {
     "name": "stdout",
     "output_type": "stream",
     "text": [
      "Isaac Total Shots: 110\n",
      "Isaac Threes Attempted: 46\n",
      "Isaac Total Free Throws: 29\n"
     ]
    }
   ],
   "source": [
    "isaac_total_shots = isaac_df['isShotAttempted'].count()\n",
    "print(\"Isaac Total Shots:\", isaac_total_shots)\n",
    "\n",
    "isaac_threes_attempted_df = isaac_df[isaac_df[\"typeShot\"] == '3PT Field Goal']\n",
    "isaac_threes_attempted_count = isaac_threes_attempted_df['isShotAttempted'].count()\n",
    "print(\"Isaac Threes Attempted:\", isaac_threes_attempted_count)\n",
    "\n",
    "isaac_free_throws_attempted = 29\n",
    "print(\"Isaac Total Free Throws:\", isaac_free_throws_attempted)"
   ]
  },
  {
   "attachments": {},
   "cell_type": "markdown",
   "metadata": {},
   "source": [
    "Isaac Makes"
   ]
  },
  {
   "cell_type": "code",
   "execution_count": 10,
   "metadata": {},
   "outputs": [
    {
     "name": "stdout",
     "output_type": "stream",
     "text": [
      "Isaac Made Shots: 52\n",
      "Isaac Made Threes: 17\n",
      "Isaac Made Free Throws: 23\n",
      "Isaac Total Points: 144\n",
      "Isaac PPG: 12.0\n"
     ]
    }
   ],
   "source": [
    "isaac_made_df = isaac_df[isaac_df[\"typeEvent\"] == 'Made Shot']\n",
    "isaac_made_shots = isaac_made_df['isShotMade'].count()\n",
    "print(\"Isaac Made Shots:\", isaac_made_shots)\n",
    "\n",
    "isaac_made_threes = isaac_threes_attempted_df[isaac_threes_attempted_df['typeEvent'] == 'Made Shot']\n",
    "isaac_made_threes_count = isaac_made_threes['isShotAttempted'].count()\n",
    "print(\"Isaac Made Threes:\", isaac_made_threes_count)\n",
    "\n",
    "isaac_free_throws_made = 23\n",
    "print(\"Isaac Made Free Throws:\", isaac_free_throws_made)\n",
    "\n",
    "isaac_points = EYBL_shots_project.calculate_points(isaac_df, isaac_free_throws_made)\n",
    "print(\"Isaac Total Points:\", isaac_points)\n",
    "\n",
    "isaac_PPG = isaac_points / games_played\n",
    "print(\"Isaac PPG:\", isaac_PPG)"
   ]
  },
  {
   "attachments": {},
   "cell_type": "markdown",
   "metadata": {},
   "source": [
    "## Calculating Stats"
   ]
  },
  {
   "attachments": {},
   "cell_type": "markdown",
   "metadata": {},
   "source": [
    "Winters Stats"
   ]
  },
  {
   "cell_type": "code",
   "execution_count": 11,
   "metadata": {},
   "outputs": [
    {
     "name": "stdout",
     "output_type": "stream",
     "text": [
      "Winters Field Goal Percentage: 0.381\n",
      "Winters Three Point Percentage: 0.367\n",
      "Winters Free Throw Percentage: 0.788\n",
      "Winters True Shooting Percentage: 0.489\n",
      "Winters Effective Field Goal Percentage: 0.446\n"
     ]
    }
   ],
   "source": [
    "winters_field_goal_percentage = round((winters_made_shots / winters_total_shots) , 3)\n",
    "print(\"Winters Field Goal Percentage:\", winters_field_goal_percentage)\n",
    "\n",
    "winters_three_point_percentage = round((winters_made_threes_count / winters_threes_attempted_count), 3)\n",
    "print(\"Winters Three Point Percentage:\", winters_three_point_percentage)\n",
    "\n",
    "winters_free_throw_percentage = round((winters_made_free_throws / winters_free_throws_attempted), 3)\n",
    "print(\"Winters Free Throw Percentage:\", winters_free_throw_percentage)\n",
    "\n",
    "winters_true_shooting_percentage = EYBL_shots_project.calculate_true_shooting(winters_points, winters_total_shots, winters_free_throws_attempted)\n",
    "print(\"Winters True Shooting Percentage:\", winters_true_shooting_percentage)\n",
    "\n",
    "winters_two_point_FGM = winters_made_shots - winters_made_threes_count\n",
    "winters_EFGP = EYBL_shots_project.calculate_EFG(winters_two_point_FGM, winters_made_threes_count, winters_total_shots)\n",
    "print(\"Winters Effective Field Goal Percentage:\", winters_EFGP)\n"
   ]
  },
  {
   "attachments": {},
   "cell_type": "markdown",
   "metadata": {},
   "source": [
    "Isaac Stats"
   ]
  },
  {
   "cell_type": "code",
   "execution_count": 12,
   "metadata": {},
   "outputs": [
    {
     "name": "stdout",
     "output_type": "stream",
     "text": [
      "Isaac Field Goal Percentage: 0.473\n",
      "Isaac Three Point Percentage: 0.37\n",
      "Isaac Free Throw Percentage: 0.793\n",
      "Isaac True Shooting Percentage: 0.587\n",
      "Isaac Effective Field Goal Percentage: 0.55\n"
     ]
    }
   ],
   "source": [
    "isaac_field_goal_percentage = round((isaac_made_shots / isaac_total_shots), 3)\n",
    "print(\"Isaac Field Goal Percentage:\", isaac_field_goal_percentage)\n",
    "\n",
    "isaac_three_point_percentage = round((isaac_made_threes_count / isaac_threes_attempted_count), 3)\n",
    "print(\"Isaac Three Point Percentage:\", isaac_three_point_percentage)\n",
    "\n",
    "isaac_free_throw_percentage = round((isaac_free_throws_made / isaac_free_throws_attempted), 3)\n",
    "print(\"Isaac Free Throw Percentage:\", isaac_free_throw_percentage)\n",
    "\n",
    "isaac_true_shooting_percentage = EYBL_shots_project.calculate_true_shooting(isaac_points, isaac_total_shots, isaac_free_throws_attempted)\n",
    "print(\"Isaac True Shooting Percentage:\", isaac_true_shooting_percentage)\n",
    "\n",
    "isaac_two_point_FGM = isaac_made_shots - isaac_made_threes_count\n",
    "isaac_EFGP = EYBL_shots_project.calculate_EFG(isaac_two_point_FGM, isaac_made_threes_count, isaac_total_shots)\n",
    "print(\"Isaac Effective Field Goal Percentage:\", isaac_EFGP)\n"
   ]
  },
  {
   "attachments": {},
   "cell_type": "markdown",
   "metadata": {},
   "source": [
    "Creating shooting percentages dataframe"
   ]
  },
  {
   "cell_type": "code",
   "execution_count": 13,
   "metadata": {},
   "outputs": [],
   "source": [
    "column_names = ['namePlayer', 'Field Goal Percentage', 'Three Point Percentage', 'Free Throw Percentage', 'True Shooting Percentage', 'Effective Field Goal Percentage']\n",
    "data = [['Winters Grady', winters_field_goal_percentage, winters_three_point_percentage, winters_free_throw_percentage, winters_true_shooting_percentage, winters_EFGP], \n",
    "        ['Isaac Carr', isaac_field_goal_percentage, isaac_three_point_percentage, isaac_free_throw_percentage, isaac_true_shooting_percentage, isaac_EFGP]]\n",
    "shooting_percentages_df = pd.DataFrame(data, columns=column_names)\n",
    "shooting_percentages_df = shooting_percentages_df.set_index(\"namePlayer\")\n"
   ]
  },
  {
   "cell_type": "code",
   "execution_count": 14,
   "metadata": {},
   "outputs": [],
   "source": [
    "shooting_percentages_df.to_csv(\"EYBL_shooting_percentages.csv\", index=True)"
   ]
  },
  {
   "attachments": {},
   "cell_type": "markdown",
   "metadata": {},
   "source": [
    "Creating Zones for Shooting "
   ]
  },
  {
   "attachments": {},
   "cell_type": "markdown",
   "metadata": {},
   "source": [
    "Winters Restricted Area Spilts"
   ]
  },
  {
   "cell_type": "code",
   "execution_count": 15,
   "metadata": {},
   "outputs": [
    {
     "name": "stdout",
     "output_type": "stream",
     "text": [
      "Winters Restricted Area Shots: 48\n",
      "Winters Restricted Area Makes: 22\n",
      "Winters Restricted Area Percentage: 0.458\n",
      "22\n",
      "12\n",
      "Winters Left Restricted Zone Percentage: 0.545\n",
      "5\n",
      "3\n",
      "Winters Right Restricted Zone Percentage: 0.6\n",
      "21\n",
      "7\n",
      "Winters Center Restricted Zone Percentage: 0.333\n"
     ]
    }
   ],
   "source": [
    "winters_restricted_area_df = winters_df[winters_df['zoneBasic'] == 'Restricted Area']\n",
    "#winters_restricted_area_df.to_csv(\"winters_rest_shots.csv\", index=True)\n",
    "winters_restricted_shots = winters_restricted_area_df['isShotAttempted'].count()\n",
    "print(\"Winters Restricted Area Shots:\", winters_restricted_shots)\n",
    "\n",
    "winters_restricted_makes_df = winters_restricted_area_df[winters_restricted_area_df['typeEvent'] == \"Made Shot\"]\n",
    "#winters_restricted_makes_df.to_csv(\"winters_rest_makes.csv\", index=True)\n",
    "winters_restricted_makes = winters_restricted_makes_df['isShotMade'].count()\n",
    "print(\"Winters Restricted Area Makes:\", winters_restricted_makes)\n",
    "\n",
    "winters_restricted_area_percentage = round(winters_restricted_makes / winters_restricted_shots, 3)\n",
    "print(\"Winters Restricted Area Percentage:\", winters_restricted_area_percentage)\n",
    "\n",
    "winters_restricted_area_left_df = EYBL_shots_project.rest_zone_by_side(winters_restricted_area_df, 'Restricted Area', 'left')\n",
    "#winters_restricted_area_left_df.to_csv(\"winters_rest_center_shots.csv\", index=True)\n",
    "winters_restricted_area_left_percentage = EYBL_shots_project.zone_side_percentage(winters_restricted_area_left_df)\n",
    "print(\"Winters Left Restricted Zone Percentage:\", winters_restricted_area_left_percentage)\n",
    "\n",
    "winters_restricted_area_right_df = EYBL_shots_project.rest_zone_by_side(winters_restricted_area_df, 'Restricted Area', 'right')\n",
    "#winters_restricted_area_right_df.to_csv(\"winters_rest_right_shots.csv\", index=True)\n",
    "winters_restricted_area_right_percentage = EYBL_shots_project.zone_side_percentage(winters_restricted_area_right_df)\n",
    "print(\"Winters Right Restricted Zone Percentage:\", winters_restricted_area_right_percentage)\n",
    "\n",
    "winters_restricted_area_center_df = EYBL_shots_project.rest_zone_by_side(winters_restricted_area_df, 'Restricted Area', 'center')\n",
    "#winters_restricted_area_center_df.to_csv(\"winters_center.csv\", index=True)\n",
    "winters_restricted_area_center_percentage = EYBL_shots_project.zone_side_percentage(winters_restricted_area_center_df)\n",
    "print(\"Winters Center Restricted Zone Percentage:\", winters_restricted_area_center_percentage)\n"
   ]
  },
  {
   "attachments": {},
   "cell_type": "markdown",
   "metadata": {},
   "source": [
    "Isaac Restricted Area Splits"
   ]
  },
  {
   "cell_type": "code",
   "execution_count": 16,
   "metadata": {},
   "outputs": [
    {
     "name": "stdout",
     "output_type": "stream",
     "text": [
      "Isaac Restricted Area Shots: 44\n",
      "Isaac Restricted Area Makes: 26\n",
      "Isaac Restricted Area Percentage: 0.591\n",
      "10\n",
      "6\n",
      "Isaac Left Restricted Zone Percentage: 0.6\n",
      "14\n",
      "10\n",
      "Isaac Right Restricted Zone Percentage: 0.714\n",
      "20\n",
      "10\n",
      "Isaac Center Restricted Zone Percentage: 0.5\n"
     ]
    }
   ],
   "source": [
    "isaac_restriced_area_df = isaac_df[isaac_df['zoneBasic'] == 'Restricted Area']\n",
    "isaac_restriced_shots = isaac_restriced_area_df['isShotAttempted'].count()\n",
    "print(\"Isaac Restricted Area Shots:\", isaac_restriced_shots)\n",
    "\n",
    "isaac_restriced_makes_df = isaac_restriced_area_df[isaac_restriced_area_df['typeEvent'] == \"Made Shot\"]\n",
    "isaac_restriced_makes = isaac_restriced_makes_df['isShotMade'].count()\n",
    "print(\"Isaac Restricted Area Makes:\", isaac_restriced_makes)\n",
    "\n",
    "isaac_restriced_area_percentage = round(isaac_restriced_makes / isaac_restriced_shots, 3)\n",
    "print(\"Isaac Restricted Area Percentage:\", isaac_restriced_area_percentage)\n",
    "\n",
    "isaac_restriced_area_left_df = EYBL_shots_project.rest_zone_by_side(isaac_df, 'Restricted Area', 'left')\n",
    "isaac_restriced_area_left_percentage = EYBL_shots_project.zone_side_percentage(isaac_restriced_area_left_df)\n",
    "print(\"Isaac Left Restricted Zone Percentage:\", isaac_restriced_area_left_percentage)\n",
    "\n",
    "isaac_restriced_area_right_df = EYBL_shots_project.rest_zone_by_side(isaac_df, 'Restricted Area', 'right')\n",
    "isaac_restriced_area_right_percentage = EYBL_shots_project.zone_side_percentage(isaac_restriced_area_right_df)\n",
    "print(\"Isaac Right Restricted Zone Percentage:\", isaac_restriced_area_right_percentage)\n",
    "\n",
    "isaac_restriced_area_center_df = EYBL_shots_project.rest_zone_by_side(isaac_df, 'Restricted Area', 'center')\n",
    "isaac_restriced_area_center_percentage = EYBL_shots_project.zone_side_percentage(isaac_restriced_area_center_df)\n",
    "print(\"Isaac Center Restricted Zone Percentage:\", isaac_restriced_area_center_percentage)"
   ]
  },
  {
   "attachments": {},
   "cell_type": "markdown",
   "metadata": {},
   "source": [
    "Mid-Range Splits"
   ]
  },
  {
   "attachments": {},
   "cell_type": "markdown",
   "metadata": {},
   "source": [
    "Winters Mid-Range Splits"
   ]
  },
  {
   "cell_type": "code",
   "execution_count": 17,
   "metadata": {},
   "outputs": [
    {
     "name": "stdout",
     "output_type": "stream",
     "text": [
      "Winters Midrange Area Shots: 40\n",
      "Winters Midrange Area Makes: 12\n",
      "Winters Mid-Range Percentage: 0.3\n",
      "15\n",
      "4\n",
      "Winters Left Mid-Range Percentage: 0.267\n",
      "10\n",
      "2\n",
      "Winters Right Mid-Range Percentage: 0.2\n",
      "15\n",
      "6\n",
      "Winters Center Mid-Range Percentage: 0.4\n"
     ]
    }
   ],
   "source": [
    "winters_midrange_df = winters_df[winters_df['zoneBasic'] == 'Mid-Range']\n",
    "winters_midrange_shots = winters_midrange_df['isShotAttempted'].count()\n",
    "print(\"Winters Midrange Area Shots:\", winters_midrange_shots)\n",
    "\n",
    "winters_midrange_makes_df = winters_midrange_df[winters_midrange_df['typeEvent'] == \"Made Shot\"]\n",
    "winters_midrange_makes = winters_midrange_makes_df['isShotMade'].count()\n",
    "print(\"Winters Midrange Area Makes:\", winters_midrange_makes)\n",
    "\n",
    "winters_midrange_percentage = round(winters_midrange_makes / winters_midrange_shots, 3)\n",
    "print(\"Winters Mid-Range Percentage:\", winters_midrange_percentage)\n",
    "\n",
    "winters_mid_range_left_df = EYBL_shots_project.mid_zone_by_side(winters_df, 'Mid-Range', 'left')\n",
    "winters_mid_range_left_percentage = EYBL_shots_project.zone_side_percentage(winters_mid_range_left_df)\n",
    "print(\"Winters Left Mid-Range Percentage:\", winters_mid_range_left_percentage)\n",
    "\n",
    "winters_mid_range_right_df = EYBL_shots_project.mid_zone_by_side(winters_df, 'Mid-Range', 'right')\n",
    "winters_mid_range_right_percentage = EYBL_shots_project.zone_side_percentage(winters_mid_range_right_df)\n",
    "print(\"Winters Right Mid-Range Percentage:\", winters_mid_range_right_percentage)\n",
    "\n",
    "winters_mid_range_center_df = EYBL_shots_project.mid_zone_by_side(winters_df, 'Mid-Range', 'center')\n",
    "winters_mid_range_center_percentage = EYBL_shots_project.zone_side_percentage(winters_mid_range_center_df)\n",
    "print(\"Winters Center Mid-Range Percentage:\", winters_mid_range_center_percentage)"
   ]
  },
  {
   "attachments": {},
   "cell_type": "markdown",
   "metadata": {},
   "source": [
    "Isaac Mid-Range Splits"
   ]
  },
  {
   "cell_type": "code",
   "execution_count": 18,
   "metadata": {},
   "outputs": [
    {
     "name": "stdout",
     "output_type": "stream",
     "text": [
      "Isaac Midrange Shots: 19\n",
      "Isaac Midrange Makes: 8\n",
      "0.421\n",
      "5\n",
      "3\n",
      "Isaac Left Mid-Range Percentage: 0.6\n",
      "6\n",
      "1\n",
      "Isaac Right Mid-Range Percentage: 0.167\n",
      "8\n",
      "4\n",
      "Isaac Center Mid-Range Percentage: 0.5\n"
     ]
    }
   ],
   "source": [
    "isaac_midrange_df = isaac_df[isaac_df['zoneBasic'] == 'Mid-Range']\n",
    "isaac_midrange_shots = isaac_midrange_df['isShotAttempted'].count()\n",
    "print(\"Isaac Midrange Shots:\", isaac_midrange_shots)\n",
    "\n",
    "isaac_midrange_makes_df = isaac_midrange_df[isaac_midrange_df['typeEvent'] == \"Made Shot\"]\n",
    "isaac_midrange_makes = isaac_midrange_makes_df['isShotMade'].count()\n",
    "print(\"Isaac Midrange Makes:\", isaac_midrange_makes)\n",
    "\n",
    "isaac_midrange_percentage = round(isaac_midrange_makes / isaac_midrange_shots, 3)\n",
    "print(isaac_midrange_percentage)\n",
    "\n",
    "isaac_mid_range_left_df = EYBL_shots_project.mid_zone_by_side(isaac_df, 'Mid-Range', 'left')\n",
    "isaac_mid_range_left_percentage = EYBL_shots_project.zone_side_percentage(isaac_mid_range_left_df)\n",
    "print(\"Isaac Left Mid-Range Percentage:\", isaac_mid_range_left_percentage)\n",
    "\n",
    "isaac_mid_range_right_df = EYBL_shots_project.mid_zone_by_side(isaac_df, 'Mid-Range', 'right')\n",
    "isaac_mid_range_right_percentage = EYBL_shots_project.zone_side_percentage(isaac_mid_range_right_df)\n",
    "print(\"Isaac Right Mid-Range Percentage:\", isaac_mid_range_right_percentage)\n",
    "\n",
    "isaac_mid_range_center_df = EYBL_shots_project.mid_zone_by_side(isaac_df, 'Mid-Range', 'center')\n",
    "isaac_mid_range_center_percentage = EYBL_shots_project.zone_side_percentage(isaac_mid_range_center_df)\n",
    "print(\"Isaac Center Mid-Range Percentage:\", isaac_mid_range_center_percentage)"
   ]
  },
  {
   "attachments": {},
   "cell_type": "markdown",
   "metadata": {},
   "source": [
    "Corner Three Spilts"
   ]
  },
  {
   "attachments": {},
   "cell_type": "markdown",
   "metadata": {},
   "source": [
    "Winter Corner Three Splits"
   ]
  },
  {
   "cell_type": "code",
   "execution_count": 19,
   "metadata": {},
   "outputs": [
    {
     "name": "stdout",
     "output_type": "stream",
     "text": [
      "Winters Corner Three Area Shots: 17\n",
      "Winters Corner Three Area Makes: 5\n",
      "Winters Corner Three Percentage: 0.294\n",
      "8\n",
      "2\n",
      "Winters Left Corner Three Percentage: 0.25\n",
      "9\n",
      "3\n",
      "Winters Right Corner Three Percentage: 0.333\n"
     ]
    }
   ],
   "source": [
    "winters_corner_three_df = winters_df[winters_df['zoneBasic'] == 'Corner Three']\n",
    "winters_corner_three_shots = winters_corner_three_df['isShotAttempted'].count()\n",
    "print(\"Winters Corner Three Area Shots:\", winters_corner_three_shots)\n",
    "\n",
    "winters_corner_three_makes_df = winters_corner_three_df[winters_corner_three_df['typeEvent'] == \"Made Shot\"]\n",
    "winters_corner_three_makes = winters_corner_three_makes_df['isShotMade'].count()\n",
    "print(\"Winters Corner Three Area Makes:\", winters_corner_three_makes)\n",
    "\n",
    "winters_corner_three_percentage = EYBL_shots_project.create_zone_shots(winters_df, 'Corner Three')\n",
    "print(\"Winters Corner Three Percentage:\", winters_corner_three_percentage)\n",
    "\n",
    "winters_corner_three_left_df = EYBL_shots_project.corner_zone_by_side(winters_df, 'Corner Three', 'left')\n",
    "winters_corner_three_left_percentage = EYBL_shots_project.zone_side_percentage(winters_corner_three_left_df)\n",
    "print(\"Winters Left Corner Three Percentage:\", winters_corner_three_left_percentage)\n",
    "\n",
    "winters_corner_three_right_df = EYBL_shots_project.corner_zone_by_side(winters_df, 'Corner Three', 'right')\n",
    "winters_corner_three_right_percentage = EYBL_shots_project.zone_side_percentage(winters_corner_three_right_df)\n",
    "print(\"Winters Right Corner Three Percentage:\", winters_corner_three_right_percentage)"
   ]
  },
  {
   "attachments": {},
   "cell_type": "markdown",
   "metadata": {},
   "source": [
    "Isaac Corner Three Splits"
   ]
  },
  {
   "cell_type": "code",
   "execution_count": 20,
   "metadata": {},
   "outputs": [
    {
     "name": "stdout",
     "output_type": "stream",
     "text": [
      "Isaac Corner Three Area Shots: 24\n",
      "Isaac Corner Three Area Makes: 12\n",
      "Isaac Corner Three Percentage: 0.5\n",
      "8\n",
      "4\n",
      "Isaac Left Corner Three Percentage: 0.5\n",
      "16\n",
      "8\n",
      "Isaac Right Corner Three Percentage: 0.5\n"
     ]
    }
   ],
   "source": [
    "isaac_corner_three_df = isaac_df[isaac_df['zoneBasic'] == 'Corner Three']\n",
    "isaac_corner_three_shots = isaac_corner_three_df['isShotAttempted'].count()\n",
    "print(\"Isaac Corner Three Area Shots:\", isaac_corner_three_shots)\n",
    "\n",
    "isaac_corner_three_makes_df = isaac_corner_three_df[isaac_corner_three_df['typeEvent'] == \"Made Shot\"]\n",
    "isaac_corner_three_makes = isaac_corner_three_makes_df['isShotMade'].count()\n",
    "print(\"Isaac Corner Three Area Makes:\", isaac_corner_three_makes)\n",
    "\n",
    "isaac_corner_three_percentage = EYBL_shots_project.create_zone_shots(isaac_df, 'Corner Three')\n",
    "print(\"Isaac Corner Three Percentage:\", isaac_corner_three_percentage)\n",
    "\n",
    "isaac_corner_three_left_df = EYBL_shots_project.corner_zone_by_side(isaac_df, 'Corner Three', 'left')\n",
    "isaac_corner_three_left_percentage = EYBL_shots_project.zone_side_percentage(isaac_corner_three_left_df)\n",
    "print(\"Isaac Left Corner Three Percentage:\", isaac_corner_three_left_percentage)\n",
    "\n",
    "isaac_corner_three_right_df = EYBL_shots_project.corner_zone_by_side(isaac_df, 'Corner Three', 'right')\n",
    "isaac_corner_three_right_percentage = EYBL_shots_project.zone_side_percentage(isaac_corner_three_right_df)\n",
    "print(\"Isaac Right Corner Three Percentage:\", isaac_corner_three_right_percentage)"
   ]
  },
  {
   "attachments": {},
   "cell_type": "markdown",
   "metadata": {},
   "source": [
    "Above the Break Threes Splits"
   ]
  },
  {
   "attachments": {},
   "cell_type": "markdown",
   "metadata": {},
   "source": [
    "Winters Above the Break Threes Splits"
   ]
  },
  {
   "cell_type": "code",
   "execution_count": 21,
   "metadata": {},
   "outputs": [
    {
     "name": "stdout",
     "output_type": "stream",
     "text": [
      "Winters Above the Break Three Area Shots: 32\n",
      "Winters Above the Break Three Area Makes: 13\n",
      "Winters Above the Break Three Percentage: 0.406\n",
      "9\n",
      "4\n",
      "Winters Left Above the Break Three Percentage: 0.444\n",
      "14\n",
      "6\n",
      "Winters Right Above the Break Three Percentage: 0.429\n",
      "9\n",
      "3\n",
      "Winters Center Above the Break Three Percentage: 0.333\n"
     ]
    }
   ],
   "source": [
    "winters_ATB_three_df = winters_df[winters_df['zoneBasic'] == 'Above the Break Three']\n",
    "winters_ATB_three_shots = winters_ATB_three_df['isShotAttempted'].count()\n",
    "print(\"Winters Above the Break Three Area Shots:\", winters_ATB_three_shots)\n",
    "\n",
    "winters_ATB_three_makes_df = winters_ATB_three_df[winters_ATB_three_df['typeEvent'] == \"Made Shot\"]\n",
    "winters_ATB_three_makes = winters_ATB_three_makes_df['isShotMade'].count()\n",
    "print(\"Winters Above the Break Three Area Makes:\", winters_ATB_three_makes)\n",
    "\n",
    "winters_ATB_three_percentage = EYBL_shots_project.create_zone_shots(winters_df, 'Above the Break Three')\n",
    "print(\"Winters Above the Break Three Percentage:\", winters_ATB_three_percentage)\n",
    "\n",
    "winters_ATB_three_left_df = EYBL_shots_project.ATB_zone_by_side(winters_df, 'Above the Break Three', 'left')\n",
    "winters_ATB_three_left_percentage = EYBL_shots_project.zone_side_percentage(winters_ATB_three_left_df)\n",
    "print(\"Winters Left Above the Break Three Percentage:\", winters_ATB_three_left_percentage)\n",
    "\n",
    "winters_ATB_three_right_df = EYBL_shots_project.ATB_zone_by_side(winters_df, 'Above the Break Three', 'right')\n",
    "winters_ATB_three_right_percentage = EYBL_shots_project.zone_side_percentage(winters_ATB_three_right_df)\n",
    "print(\"Winters Right Above the Break Three Percentage:\", winters_ATB_three_right_percentage)\n",
    "\n",
    "winters_ATB_three_center_df = EYBL_shots_project.ATB_zone_by_side(winters_df, 'Above the Break Three', 'center')\n",
    "winters_ATB_three_center_percentage = EYBL_shots_project.zone_side_percentage(winters_ATB_three_center_df)\n",
    "print(\"Winters Center Above the Break Three Percentage:\", winters_ATB_three_center_percentage)"
   ]
  },
  {
   "attachments": {},
   "cell_type": "markdown",
   "metadata": {},
   "source": [
    "Isaac Above the Break Threes Splits"
   ]
  },
  {
   "cell_type": "code",
   "execution_count": 22,
   "metadata": {},
   "outputs": [
    {
     "name": "stdout",
     "output_type": "stream",
     "text": [
      "Isaac Above the Break Three Area Shots: 22\n",
      "Isaac Above the Break Three Area Makes: 5\n",
      "Isaac Above the Break Three Percentage: 0.227\n",
      "8\n",
      "0\n",
      "Isaac Left Above the Break Three Percentage: 0.0\n",
      "11\n",
      "4\n",
      "Isaac Right Above the Break Three Percentage: 0.364\n",
      "3\n",
      "1\n",
      "Isaac Center Above the Break Three Percentage: 0.333\n"
     ]
    }
   ],
   "source": [
    "isaac_ATB_three_df = isaac_df[isaac_df['zoneBasic'] == 'Above the Break Three']\n",
    "isaac_ATB_three_shots = isaac_ATB_three_df['isShotAttempted'].count()\n",
    "print(\"Isaac Above the Break Three Area Shots:\", isaac_ATB_three_shots)\n",
    "\n",
    "isaac_ATB_three_makes_df = isaac_ATB_three_df[isaac_ATB_three_df['typeEvent'] == \"Made Shot\"]\n",
    "isaac_ATB_three_makes = isaac_ATB_three_makes_df['isShotMade'].count()\n",
    "print(\"Isaac Above the Break Three Area Makes:\", isaac_ATB_three_makes)\n",
    "\n",
    "isaac_ATB_three_percentage = EYBL_shots_project.create_zone_shots(isaac_df, 'Above the Break Three')\n",
    "print(\"Isaac Above the Break Three Percentage:\", isaac_ATB_three_percentage)\n",
    "\n",
    "isaac_ATB_three_left_df = EYBL_shots_project.ATB_zone_by_side(isaac_df, 'Above the Break Three', 'left')\n",
    "isaac_ATB_three_left_percentage = EYBL_shots_project.zone_side_percentage(isaac_ATB_three_left_df)\n",
    "print(\"Isaac Left Above the Break Three Percentage:\", isaac_ATB_three_left_percentage)\n",
    "\n",
    "isaac_ATB_three_right_df = EYBL_shots_project.ATB_zone_by_side(isaac_df, 'Above the Break Three', 'right')\n",
    "isaac_ATB_three_right_percentage = EYBL_shots_project.zone_side_percentage(isaac_ATB_three_right_df)\n",
    "print(\"Isaac Right Above the Break Three Percentage:\", isaac_ATB_three_right_percentage)\n",
    "\n",
    "isaac_ATB_three_center_df = EYBL_shots_project.ATB_zone_by_side(isaac_df, 'Above the Break Three', 'center')\n",
    "isaac_ATB_three_center_percentage = EYBL_shots_project.zone_side_percentage(isaac_ATB_three_center_df)\n",
    "print(\"Isaac Center Above the Break Three Percentage:\", isaac_ATB_three_center_percentage)"
   ]
  },
  {
   "cell_type": "code",
   "execution_count": 24,
   "metadata": {},
   "outputs": [],
   "source": [
    "column_names = ['namePlayer', 'Restricted Area Percentage', 'Left Restricted Area Percentage', 'Right Restricted Area Percentage', 'Center Restricted Area Percentage', \n",
    "                'Mid Range Percentage', 'Left Mid Range Percentage', 'Right Mid Range Percentage', 'Center Mid Range Percentage', \n",
    "                'Corner Three Percentage', 'Left Corner Three Percentage', 'Right Corner Three Percentage',\n",
    "                'Above the Break Three Percentage', 'Left Above the Break Three Percentage', 'Right Above the Break Three Percentage', 'Center Above the Break Three Percentage']\n",
    "data = [['Winters Grady', winters_restricted_area_percentage, winters_restricted_area_left_percentage, winters_restricted_area_right_percentage, winters_restricted_area_center_percentage, \n",
    "         winters_midrange_percentage, winters_mid_range_left_percentage, winters_mid_range_right_percentage, winters_mid_range_center_percentage, \n",
    "         winters_corner_three_percentage, winters_corner_three_left_percentage, winters_corner_three_right_percentage, \n",
    "         winters_ATB_three_percentage, winters_ATB_three_left_percentage, winters_ATB_three_right_percentage, winters_ATB_three_center_percentage], \n",
    "        ['Isaac Carr', isaac_restriced_area_percentage, isaac_restriced_area_left_percentage, isaac_restriced_area_right_percentage, isaac_restriced_area_center_percentage, \n",
    "         isaac_midrange_percentage, isaac_mid_range_left_percentage, isaac_mid_range_right_percentage, isaac_mid_range_center_percentage, \n",
    "         isaac_corner_three_percentage, isaac_corner_three_left_percentage, isaac_corner_three_right_percentage, \n",
    "         isaac_ATB_three_percentage, isaac_ATB_three_left_percentage, isaac_ATB_three_right_percentage, isaac_ATB_three_center_percentage]]\n",
    "shooting_zones_percentages_df = pd.DataFrame(data, columns=column_names)\n",
    "shooting_zones_percentages_df = shooting_zones_percentages_df.set_index(\"namePlayer\")"
   ]
  },
  {
   "cell_type": "code",
   "execution_count": 25,
   "metadata": {},
   "outputs": [],
   "source": [
    "shooting_combined_df = shooting_percentages_df.merge(shooting_zones_percentages_df, on=\"namePlayer\")\n",
    "shooting_combined_df.to_csv(\"EYBL_shooting_percentages.csv\", index=True)"
   ]
  }
 ],
 "metadata": {
  "kernelspec": {
   "display_name": "base",
   "language": "python",
   "name": "python3"
  },
  "language_info": {
   "codemirror_mode": {
    "name": "ipython",
    "version": 3
   },
   "file_extension": ".py",
   "mimetype": "text/x-python",
   "name": "python",
   "nbconvert_exporter": "python",
   "pygments_lexer": "ipython3",
   "version": "3.9.12"
  },
  "orig_nbformat": 4
 },
 "nbformat": 4,
 "nbformat_minor": 2
}
