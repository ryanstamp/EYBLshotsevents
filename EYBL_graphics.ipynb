{
 "cells": [
  {
   "cell_type": "code",
   "execution_count": 2,
   "metadata": {},
   "outputs": [],
   "source": [
    "# Import packages\n",
    "import json\n",
    "import requests\n",
    "import pandas as pd\n",
    "import matplotlib as mpl\n",
    "import matplotlib.pyplot as plt\n",
    "import matplotlib.patches as patches"
   ]
  },
  {
   "cell_type": "code",
   "execution_count": 3,
   "metadata": {},
   "outputs": [
    {
     "name": "stdout",
     "output_type": "stream",
     "text": [
      "yearSeason         0\n",
      "idPlayer           0\n",
      "namePlayer         0\n",
      "nameTeam           0\n",
      "typeEvent          0\n",
      "typeAction         0\n",
      "typeShot           0\n",
      "dateGame           0\n",
      "slugTeamHome       0\n",
      "slugTeamAway       0\n",
      "idGame             0\n",
      "NumberHalf         0\n",
      "zoneBasic          0\n",
      "locationX          0\n",
      "locationY          0\n",
      "distanceShot       0\n",
      "isShotAttempted    0\n",
      "isShotMade         0\n",
      "dtype: int64\n"
     ]
    }
   ],
   "source": [
    "rotary_shots_df = pd.read_csv(\"EYBL NW Rotary Shot Data.csv\")\n",
    "\n",
    "rotary_shots_df.drop(labels=[\"Unnamed: 18\"], axis=1, inplace=True)\n",
    "print(rotary_shots_df.isnull().sum())\n"
   ]
  },
  {
   "cell_type": "code",
   "execution_count": 4,
   "metadata": {},
   "outputs": [
    {
     "name": "stdout",
     "output_type": "stream",
     "text": [
      "0     -120.0\n",
      "1      150.0\n",
      "2     -235.0\n",
      "3      -30.0\n",
      "4      -20.0\n",
      "       ...  \n",
      "244    -60.0\n",
      "245    180.0\n",
      "246     55.0\n",
      "247     15.0\n",
      "248    180.0\n",
      "Name: locationX, Length: 249, dtype: float64\n"
     ]
    }
   ],
   "source": [
    "def scale_locationX(dataset):\n",
    "    # Copy the dataset to avoid modifying the original\n",
    "    scaled_dataset = dataset.copy()\n",
    "\n",
    "    # Scale the values in the locationX column\n",
    "    scaled_dataset['locationX'] = (scaled_dataset['locationX'] / 25) * 250\n",
    "\n",
    "    return scaled_dataset\n",
    "\n",
    "# Example usage\n",
    "scaled_dataset = scale_locationX(rotary_shots_df)\n",
    "print(scaled_dataset['locationX'])"
   ]
  },
  {
   "cell_type": "code",
   "execution_count": 5,
   "metadata": {},
   "outputs": [
    {
     "name": "stdout",
     "output_type": "stream",
     "text": [
      "0      130.0\n",
      "1       30.0\n",
      "2       30.0\n",
      "3       60.0\n",
      "4       30.0\n",
      "       ...  \n",
      "244     40.0\n",
      "245    200.0\n",
      "246     80.0\n",
      "247     50.0\n",
      "248    220.0\n",
      "Name: locationY, Length: 249, dtype: float64\n"
     ]
    }
   ],
   "source": [
    "def scale_locationY(dataset):\n",
    "    # Copy the dataset to avoid modifying the original\n",
    "    scaled_dataset = dataset.copy()\n",
    "\n",
    "    # Scale the values in the locationX column\n",
    "    scaled_dataset['locationY'] = (scaled_dataset['locationY'] / 47) * 470\n",
    "\n",
    "    return scaled_dataset\n",
    "\n",
    "# Example usage\n",
    "scaled_dataset = scale_locationY(rotary_shots_df)\n",
    "print(scaled_dataset['locationY'])"
   ]
  },
  {
   "cell_type": "code",
   "execution_count": 5,
   "metadata": {},
   "outputs": [],
   "source": [
    "winters_df = scaled_dataset[scaled_dataset[\"namePlayer\"] == 'Winters Grady']\n",
    "isaac_df = scaled_dataset[scaled_dataset[\"namePlayer\"] == 'Isaac Carr']"
   ]
  },
  {
   "cell_type": "code",
   "execution_count": 11,
   "metadata": {},
   "outputs": [
    {
     "data": {
      "image/png": "[encoded data removed]",
      "text/plain": [
       "<Figure size 288x270.72 with 1 Axes>"
      ]
     },
     "metadata": {},
     "output_type": "display_data"
    }
   ],
   "source": [
    "# Function to draw basketball court\n",
    "def create_court(ax, color):\n",
    "    # Plot hexbin of shots\n",
    "   # Plot hexbin of shots with logarithmic binning\n",
    "    ax.hexbin(winters_df['locationX'], winters_df['locationY'] + 60, gridsize=(30, 30), extent=(-300, 300, 0, 940), bins='log', cmap='Blues')\n",
    "\n",
    "    # Short corner 3PT lines\n",
    "    ax.plot([-200, -200], [0,94], linewidth=2, color=color)\n",
    "    ax.plot([200, 200], [0, 94], linewidth=2, color=color)\n",
    "\n",
    "    # 3PT Arc\n",
    "    ax.add_artist(mpl.patches.Arc((0, 95), 400, 315, theta1=0, theta2=180, facecolor='none', edgecolor=color, lw=2))\n",
    "    # Lane and Key\n",
    "\n",
    "    ax.plot([-80, -80], [0, 190], linewidth=2, color=color)\n",
    "    ax.plot([80, 80], [0, 190], linewidth=2, color=color)\n",
    "    ax.plot([-60, -60], [0, 190], linewidth=2, color=color)\n",
    "    ax.plot([60, 60], [0, 190], linewidth=2, color=color)\n",
    "    ax.plot([-80, 80], [190, 190], linewidth=2, color=color)\n",
    "    ax.add_artist(mpl.patches.Circle((0, 190), 60, facecolor='none', edgecolor=color, lw=2))\n",
    "\n",
    "    # Rim\n",
    "    ax.add_artist(mpl.patches.Circle((0, 60), 15, facecolor='none', edgecolor=color, lw=2))\n",
    "    \n",
    "    # Backboard\n",
    "    ax.plot([-30, 30], [40, 40], linewidth=2, color=color)\n",
    "    # Remove ticks\n",
    "    ax.set_xticks([])\n",
    "    ax.set_yticks([])\n",
    "    \n",
    "    # Set axis limits\n",
    "    ax.set_xlim(-250, 250)\n",
    "    ax.set_ylim(0, 470)\n",
    "\n",
    "# General plot parameters\n",
    "mpl.rcParams['font.family'] = 'Avenir'\n",
    "mpl.rcParams['font.size'] = 18\n",
    "mpl.rcParams['axes.linewidth'] = 2\n",
    "# Draw basketball court\n",
    "fig = plt.figure(figsize=(4, 3.76))\n",
    "ax = fig.add_axes([0, 0, 1, 1])\n",
    "ax = create_court(ax, 'black')\n",
    "plt.show()\n"
   ]
  },
  {
   "cell_type": "code",
   "execution_count": 12,
   "metadata": {},
   "outputs": [
    {
     "data": {
      "image/png": "[encoded data removed]",
      "text/plain": [
       "<Figure size 288x270.72 with 1 Axes>"
      ]
     },
     "metadata": {},
     "output_type": "display_data"
    }
   ],
   "source": [
    "def create_court(ax, color):\n",
    "\n",
    "    # Plot hexbin of shots with logarithmic binning\n",
    "    ax.hexbin(winters_df['locationX'], winters_df['locationY'] + 60, gridsize=(30, 30), extent=(-300, 300, 0, 940), bins='log', cmap='Blues')\n",
    "\n",
    "    # Short corner 3PT lines\n",
    "    ax.plot([-220, -220], [0, 140], linewidth=2, color=color)\n",
    "    ax.plot([220, 220], [0, 140], linewidth=2, color=color)\n",
    "\n",
    "    # 3PT Arc\n",
    "    ax.add_artist(mpl.patches.Arc((0, 140), 440, 315, theta1=0, theta2=180, facecolor='none', edgecolor=color, lw=2))\n",
    "    # Lane and Key\n",
    "\n",
    "    ax.plot([-80, -80], [0, 190], linewidth=2, color=color)\n",
    "    ax.plot([80, 80], [0, 190], linewidth=2, color=color)\n",
    "    ax.plot([-60, -60], [0, 190], linewidth=2, color=color)\n",
    "    ax.plot([60, 60], [0, 190], linewidth=2, color=color)\n",
    "    ax.plot([-80, 80], [190, 190], linewidth=2, color=color)\n",
    "    ax.add_artist(mpl.patches.Circle((0, 190), 60, facecolor='none', edgecolor=color, lw=2))\n",
    "\n",
    "    # Rim\n",
    "    ax.add_artist(mpl.patches.Circle((0, 60), 15, facecolor='none', edgecolor=color, lw=2))\n",
    "    \n",
    "    # Backboard\n",
    "    ax.plot([-30, 30], [40, 40], linewidth=2, color=color)\n",
    "    # Remove ticks\n",
    "    ax.set_xticks([])\n",
    "    ax.set_yticks([])\n",
    "    \n",
    "    # Set axis limits\n",
    "    ax.set_xlim(-250, 250)\n",
    "    ax.set_ylim(0, 470)\n",
    "\n",
    "# General plot parameters\n",
    "mpl.rcParams['font.family'] = 'Avenir'\n",
    "mpl.rcParams['font.size'] = 18\n",
    "mpl.rcParams['axes.linewidth'] = 2\n",
    "# Draw basketball court\n",
    "fig = plt.figure(figsize=(4, 3.76))\n",
    "ax = fig.add_axes([0, 0, 1, 1])\n",
    "ax = create_court(ax, 'black')\n",
    "plt.show()"
   ]
  }
 ],
 "metadata": {
  "kernelspec": {
   "display_name": "base",
   "language": "python",
   "name": "python3"
  },
  "language_info": {
   "codemirror_mode": {
    "name": "ipython",
    "version": 3
   },
   "file_extension": ".py",
   "mimetype": "text/x-python",
   "name": "python",
   "nbconvert_exporter": "python",
   "pygments_lexer": "ipython3",
   "version": "3.9.12"
  },
  "orig_nbformat": 4
 },
 "nbformat": 4,
 "nbformat_minor": 2
}
